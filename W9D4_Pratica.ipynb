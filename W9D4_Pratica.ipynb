{
 "cells": [
  {
   "cell_type": "markdown",
   "id": "79559538-e34a-4cb5-a0a2-e04dedffb230",
   "metadata": {},
   "source": [
    "### W9D4 - Pratica"
   ]
  },
  {
   "cell_type": "markdown",
   "id": "1e0862e9-cccf-49b3-8519-ef7285b04dda",
   "metadata": {},
   "source": [
    "#### Esercizio 1: \n",
    "Stampare tutti i caratteri della parola 'Epicode', uno su ogni riga, utilizzando un ciclo while.                          \n",
    "*Ciclo while*: non sappiamo quante volte viene eseguito -> dipende da quante volte una condizione viene eseguita."
   ]
  },
  {
   "cell_type": "code",
   "execution_count": 1,
   "id": "89893655-204e-4e34-aba9-964ee1299cb6",
   "metadata": {},
   "outputs": [
    {
     "name": "stdout",
     "output_type": "stream",
     "text": [
      "Le lettere della stringa sono:\n",
      "- E\n",
      "- p\n",
      "- i\n",
      "- c\n",
      "- o\n",
      "- d\n",
      "- e\n"
     ]
    }
   ],
   "source": [
    "nome_scuola = \"Epicode\"                 #Definisco stringa 'nome_scuola'\n",
    "lunghezza = len(nome_scuola)            #Calcolo lunghezza stringa e memorizzo variabile 'lunghezza'\n",
    "contatore = 0                           #Inizializzo contatore a 0\n",
    "\n",
    "print(\"Le lettere della stringa sono:\") #Stampo una volta sola l'intestazione\n",
    "\n",
    "while contatore < lunghezza:            #Ciclo while che continua, finché contatore è < della lunghezza stringa\n",
    "    carattere = nome_scuola[contatore]  #Estraggo carattere corrente della stringa, usando contatore come indice\n",
    "    print(\"-\",carattere)                #Stampo carattere corrente della stringa\n",
    "    contatore += 1                      #Incremento contatore di 1 -> update"
   ]
  },
  {
   "cell_type": "markdown",
   "id": "852edda4-044d-406a-90fc-3151c6216d43",
   "metadata": {},
   "source": [
    "#### Esercizio 2: \n",
    "Stampare a video tutti i numeri da 0 a 20, utilizzando il costrutto while."
   ]
  },
  {
   "cell_type": "code",
   "execution_count": 2,
   "id": "a7473fb1-be27-48da-8eec-4d1a7d4eacaf",
   "metadata": {},
   "outputs": [
    {
     "name": "stdout",
     "output_type": "stream",
     "text": [
      "0\n",
      "1\n",
      "2\n",
      "3\n",
      "4\n",
      "5\n",
      "6\n",
      "7\n",
      "8\n",
      "9\n",
      "10\n",
      "11\n",
      "12\n",
      "13\n",
      "14\n",
      "15\n",
      "16\n",
      "17\n",
      "18\n",
      "19\n",
      "20\n",
      "Finito\n"
     ]
    }
   ],
   "source": [
    "numero = 0                              #Inizializzo variabile numero a 0\n",
    "\n",
    "while numero <= 20:                     #Ciclo while che continua finché numero è <= a 20 -> condizione\n",
    "    print(numero)                       #Stampo valore corrente di numero\n",
    "    numero += 1                         #Incremento variabile numero di 1 ad ogni iterazione del ciclo -> update\n",
    "    \n",
    "print(\"Finito\")                         #Alla fine del ciclo, viene stampato \"Finito\""
   ]
  },
  {
   "cell_type": "markdown",
   "id": "787c66c5-968a-47ed-9f45-531cc88b2268",
   "metadata": {},
   "source": [
    "#### Esercizio 3:\n",
    "Calcolare e stampare tutte le prime 10 potenze di 2 (esempio: 2⁰, 2¹, 2², …), utilizzando un ciclo while."
   ]
  },
  {
   "cell_type": "code",
   "execution_count": 3,
   "id": "b58e9f96-fa7c-46d8-a835-4a9c26ce96cb",
   "metadata": {},
   "outputs": [
    {
     "name": "stdout",
     "output_type": "stream",
     "text": [
      "2^0 = 1\n",
      "2^1 = 2\n",
      "2^2 = 4\n",
      "2^3 = 8\n",
      "2^4 = 16\n",
      "2^5 = 32\n",
      "2^6 = 64\n",
      "2^7 = 128\n",
      "2^8 = 256\n",
      "2^9 = 512\n",
      "Finito\n"
     ]
    }
   ],
   "source": [
    "numero = 0                              #Inizializzo variabile numero a 0\n",
    "#Posso partire con inizializzazione variabile numero = 1 e mettere <=10 nel while, per avere potenza da 1 a 10\n",
    "\n",
    "while numero < 10:                      #Ciclo while che continua finché numero è < di 10 -> condizione\n",
    "    potenza = 2 ** numero               #Calcolo potenza di 2\n",
    "    print(f\"2^{numero} = {potenza}\")    #Stampo risultato\n",
    "    numero += 1                         #Incremento variabile numero di 1 -> update\n",
    "\n",
    "print(\"Finito\")                         #Alla fine del ciclo, viene stampato \"Finito\""
   ]
  },
  {
   "cell_type": "markdown",
   "id": "cd592e41-449b-4963-be91-6f9861305c24",
   "metadata": {},
   "source": [
    "#### Esercizio 4:\n",
    "Calcolare e stampare tutte le prime N potenze di 2, con un ciclo while, \n",
    "domandando all'utente di inserire N."
   ]
  },
  {
   "cell_type": "code",
   "execution_count": 4,
   "id": "e31b45b9-191b-462a-8a8a-4f1f9472f83c",
   "metadata": {},
   "outputs": [
    {
     "name": "stdin",
     "output_type": "stream",
     "text": [
      "Inserisci il valore di N:  5\n"
     ]
    },
    {
     "name": "stdout",
     "output_type": "stream",
     "text": [
      "2^1 = 2\n",
      "2^2 = 4\n",
      "2^3 = 8\n",
      "2^4 = 16\n",
      "2^5 = 32\n",
      "Finito\n"
     ]
    }
   ],
   "source": [
    "#Chiedo all'utente inserire il valore di N\n",
    "N = int(input(\"Inserisci il valore di N: \"))   #Converto input dell'utente in un intero -> casting\n",
    "esponente = 1                                  #Inizializzo variabile esponente a 1\n",
    "\n",
    "while esponente <= N:                          #Ciclo while che continua finché esponente è <= a N -> condizione\n",
    "    potenza = 2 ** esponente                   #Calcolo potenza di 2\n",
    "    print(f\"2^{esponente} = {potenza}\")        #Stampo risultato\n",
    "    esponente += 1                             #Incremento variabile esponente di 1 -> update\n",
    "\n",
    "print(\"Finito\")                                #Alla fine del ciclo, viene stampato \"Finito\""
   ]
  },
  {
   "cell_type": "markdown",
   "id": "e5d37f0b-b589-40b3-b95c-6560024b85d9",
   "metadata": {},
   "source": [
    "#### Esercizio 5:\n",
    "Calcolare e stampare tutte le potenze di 2 minori di 25000 -> ciclo while più adeguato."
   ]
  },
  {
   "cell_type": "code",
   "execution_count": 5,
   "id": "9887eefd-64b0-4b2f-8b01-c036f7f6e965",
   "metadata": {},
   "outputs": [
    {
     "name": "stdout",
     "output_type": "stream",
     "text": [
      "2^1 = 2\n",
      "2^2 = 4\n",
      "2^3 = 8\n",
      "2^4 = 16\n",
      "2^5 = 32\n",
      "2^6 = 64\n",
      "2^7 = 128\n",
      "2^8 = 256\n",
      "2^9 = 512\n",
      "2^10 = 1024\n",
      "2^11 = 2048\n",
      "2^12 = 4096\n",
      "2^13 = 8192\n",
      "2^14 = 16384\n",
      "Finito\n"
     ]
    }
   ],
   "source": [
    "esponente = 1                                  #Inizializzo variabile esponente a 1\n",
    "potenza = 2 ** esponente                       #Calcolo prima potenza di 2\n",
    "\n",
    "while potenza < 25000:                         #Ciclo while che continua finché potenza di 2 è < di 25000 -> condizione\n",
    "    print(f\"2^{esponente} = {potenza}\")        #Stampo risultato -> prima dell'update, sennò stampa anche oltre i 25000\n",
    "    esponente += 1                             #Incremento variabile esponente di 1 -> update\n",
    "    potenza = 2 ** esponente                   #Calcolo nuova potenza di 2 -> update\n",
    "    \n",
    "print(\"Finito\")                                #Alla fine del ciclo, viene stampato \"Finito\""
   ]
  },
  {
   "cell_type": "markdown",
   "id": "cba68e23-3a0d-44d4-b3a7-230873b65ee2",
   "metadata": {},
   "source": [
    "##### Spiegazione sul perchè il print() va prima dell'aggiornamento:\n",
    "\n",
    "* ***Inizializzazione***                                                                                                     \n",
    "esponente [1]                                                                                                          \n",
    "potenza  [2]                                                                                                            \n",
    "                                                                                                                       \n",
    "* ***Ciclo 1***                                                                                                             \n",
    "print [2^1 = 2]\n",
    "                                                                                                 \n",
    "  esponente [2]                                                                                                       \n",
    "  potenza  [4]\n",
    "\n",
    "* ***Ciclo 2***                                                                                                             \n",
    "print [2^2 = 4]\n",
    "                                                                                                 \n",
    "  esponente [3]                                                                                                       \n",
    "  potenza  [8]\n",
    "\n",
    "* ***Ciclo 3***                                                                                                             \n",
    "print [2^3 = 8]\n",
    "                                                                                                 \n",
    "  esponente [4]                                                                                                       \n",
    "  potenza  [16]\n",
    "\n",
    "* Continuo i cicli fino a quando le potenze di 2 sono minori di 25000"
   ]
  },
  {
   "cell_type": "markdown",
   "id": "dbc30232-c34d-4106-99fe-fb36a2697a1b",
   "metadata": {},
   "source": [
    "#### Esercizio 6.1:\n",
    "Due liste, una di studenti e una di corsi."
   ]
  },
  {
   "cell_type": "code",
   "execution_count": 6,
   "id": "5475b49b-86f4-40a3-b487-5add10e9d539",
   "metadata": {},
   "outputs": [
    {
     "name": "stdout",
     "output_type": "stream",
     "text": [
      "['Alex', 'Bob', 'Cindy', 'Dan', 'Emma', 'Faith', 'Grace', 'Henry']\n",
      "['Cybersecurity', 'Data Analyst', 'Backend', 'Frontend', 'Data Analyst', 'Backend']\n",
      "\n",
      "\n",
      "La lista 'studenti' comprende:  8 studenti\n",
      "La lista 'corsi' comprende:  6 corsi\n"
     ]
    }
   ],
   "source": [
    "studenti = [\"Alex\", \"Bob\", \"Cindy\", \"Dan\", \"Emma\", \"Faith\", \"Grace\", \"Henry\"] \n",
    "corsi = [\"Cybersecurity\", \"Data Analyst\", \"Backend\", \"Frontend\", \"Data Analyst\", \"Backend\"]\n",
    "\n",
    "print(studenti)                                                       #Stampo lista studenti\n",
    "print(corsi)                                                          #Stampo lista corsi\n",
    "print(\"\\n\")                                                           #Stampo nuova linea\n",
    "\n",
    "print(\"La lista 'studenti' comprende: \" ,len(studenti), \"studenti\")   #Stampo numero studenti nella lista\n",
    "print(\"La lista 'corsi' comprende: \" ,len(corsi), \"corsi\")            #Stampo numero corsi nella lista"
   ]
  },
  {
   "cell_type": "markdown",
   "id": "e801246e-e801-4091-8fca-41c7f16ec840",
   "metadata": {},
   "source": [
    "* Emma segue Data Analyst\n",
    "* Faith segue Backend\n",
    "* Grace segue Frontend\n",
    "* Henry segue Cybersecurity"
   ]
  },
  {
   "cell_type": "code",
   "execution_count": 7,
   "id": "64e9a4d7-48f0-4b40-89b1-2502d3029913",
   "metadata": {},
   "outputs": [
    {
     "name": "stdout",
     "output_type": "stream",
     "text": [
      "Alex è iscritto a Cybersecurity\n",
      "Bob è iscritto a Data Analyst\n",
      "Cindy è iscritto a Backend\n",
      "Dan è iscritto a Frontend\n",
      "Emma è iscritto a Data Analyst\n",
      "Faith è iscritto a Backend\n",
      "Grace è iscritto a Corso non assegnato\n",
      "Henry è iscritto a Corso non assegnato\n"
     ]
    }
   ],
   "source": [
    "#Verifico corrispondenza posizionale\n",
    "abbinamenti = []                                                      #Associo studenti ai corsi\n",
    "\n",
    "for i in range(len(studenti)):                                        #Itero sugli indici studenti\n",
    "    if i < len(corsi):                                                #Uso indice per abbinare studente e corso, se disponibile\n",
    "        abbinamenti.append((studenti[i], corsi[i]))\n",
    "    else:                                                             #Se non ci sono corsi disponibili, assegno \"Corso non assegnato\"\n",
    "        abbinamenti.append((studenti[i], \"Corso non assegnato\")) \n",
    "\n",
    "for studente, corso in abbinamenti:\n",
    "    print(f\"{studente} è iscritto a {corso}\")                         #Stampo abbinamenti"
   ]
  },
  {
   "cell_type": "markdown",
   "id": "5df78a94-969b-4e64-b618-4e3e4711c63c",
   "metadata": {},
   "source": [
    "#### Esercizio 6.2:\n",
    "Aggiungere i dati mancanti, con i metodi delle liste."
   ]
  },
  {
   "cell_type": "code",
   "execution_count": 8,
   "id": "335be6ed-1639-4477-9602-9abcd0f598fc",
   "metadata": {},
   "outputs": [
    {
     "name": "stdout",
     "output_type": "stream",
     "text": [
      "['Cybersecurity', 'Data Analyst', 'Backend', 'Frontend', 'Data Analyst', 'Backend', 'Frontend', 'Cybersecurity']\n"
     ]
    }
   ],
   "source": [
    "#Aggiungo nuovi corsi alla lista corsi\n",
    "corsi.append(\"Frontend\")                                              #Aggiungo corso 'Frontend' alla lista\n",
    "corsi.append(\"Cybersecurity\")                                         #Aggiungo corso 'Cybersecurity' alla lista\n",
    "\n",
    "print(corsi)                                                          #Stampo lista corsi aggiornata"
   ]
  },
  {
   "cell_type": "code",
   "execution_count": 9,
   "id": "6e1fe5d1-0504-41b2-b093-272e0558b925",
   "metadata": {},
   "outputs": [
    {
     "name": "stdout",
     "output_type": "stream",
     "text": [
      "Le liste studenti e corsi hanno la stessa lunghezza.\n",
      "\n",
      "\n",
      "Lista corsi: ['Cybersecurity', 'Data Analyst', 'Backend', 'Frontend', 'Data Analyst', 'Backend', 'Frontend', 'Cybersecurity']\n",
      "Lista studenti: ['Alex', 'Bob', 'Cindy', 'Dan', 'Emma', 'Faith', 'Grace', 'Henry']\n"
     ]
    }
   ],
   "source": [
    "#Verifico se le due liste hanno la stessa lunghezza\n",
    "if len(studenti) == len(corsi):                                       #Se hanno stessa lunghezza, stampo messaggio conferma\n",
    "    print(\"Le liste studenti e corsi hanno la stessa lunghezza.\")\n",
    "    print(\"\\n\")                                                       #Stampo nuova linea\n",
    "    print(\"Lista corsi:\", corsi)                                      #Stampo lista corsi\n",
    "    print(\"Lista studenti:\", studenti)                                #Stampo lista studenti\n",
    "else:                                                                 #Se non hanno stessa lunghezza, stampo messaggio avviso\n",
    "    print(\"Le liste studenti e corsi non hanno la stessa lunghezza.\")\n",
    "    print(\"\\n\")                                                       #Stampo nuova linea\n",
    "    print(\"Lista corsi:\", corsi)                                      #Stampo lista corsi\n",
    "    print(\"Lista studenti:\", studenti)                                #Stampo lista studenti"
   ]
  },
  {
   "cell_type": "code",
   "execution_count": 10,
   "id": "05d5bbca-1cca-4a9f-b958-d8c7f7876fdd",
   "metadata": {},
   "outputs": [
    {
     "name": "stdout",
     "output_type": "stream",
     "text": [
      "Alex è iscritto al corso di Cybersecurity\n",
      "Bob è iscritto al corso di Data Analyst\n",
      "Cindy è iscritto al corso di Backend\n",
      "Dan è iscritto al corso di Frontend\n",
      "Emma è iscritto al corso di Data Analyst\n",
      "Faith è iscritto al corso di Backend\n",
      "Grace è iscritto al corso di Frontend\n",
      "Henry è iscritto al corso di Cybersecurity\n"
     ]
    }
   ],
   "source": [
    "#Verifico corrispondenza tra studenti e corsi -> ciclo for\n",
    "for i in range(len(studenti)):                                        #Itero sugli indici studenti\n",
    "    print(f\"{studenti[i]} è iscritto al corso di {corsi[i]}\")         #Stampo nome studente e corso a cui è iscritto"
   ]
  },
  {
   "cell_type": "code",
   "execution_count": 11,
   "id": "e97d3e73-f258-4632-a68a-5314d1973d7f",
   "metadata": {},
   "outputs": [
    {
     "name": "stdout",
     "output_type": "stream",
     "text": [
      "Alex è iscritto al corso di Cybersecurity\n",
      "Bob è iscritto al corso di Data Analyst\n",
      "Cindy è iscritto al corso di Backend\n",
      "Dan è iscritto al corso di Frontend\n",
      "Emma è iscritto al corso di Data Analyst\n",
      "Faith è iscritto al corso di Backend\n",
      "Grace è iscritto al corso di Frontend\n",
      "Henry è iscritto al corso di Cybersecurity\n"
     ]
    }
   ],
   "source": [
    "#Verifico corrispondenza tra studenti e corsi -> ciclo while\n",
    "i = 0                                                                 #Inizializzo contatore i a 0\n",
    "\n",
    "while i < len(studenti):                                              #Ciclo while per iterare, finché i è < lunghezza lista studenti\n",
    "    print(f\"{studenti[i]} è iscritto al corso di {corsi[i]}\")         #Stampo nome studente e corso a cui è iscritto\n",
    "    i += 1                                                            #Incremento contatore i di 1, per passare al prossimo studente"
   ]
  },
  {
   "cell_type": "markdown",
   "id": "51842f95-1df8-4e84-9538-a797b273082f",
   "metadata": {},
   "source": [
    "#### Esercizio 7:\n",
    "Scriviamo un programma che chiede in input all'utente una stringa e visualizza i primi 3 caratteri, \n",
    "seguiti da 3 punti di sospensione e quindi gli ultimi 3 caratteri."
   ]
  },
  {
   "cell_type": "code",
   "execution_count": 12,
   "id": "360587a9-1776-415d-8e7d-0e722173e6ab",
   "metadata": {},
   "outputs": [
    {
     "name": "stdin",
     "output_type": "stream",
     "text": [
      "Inserisci una parola: Giulia\n",
      "Inserisci un'altra parola: Alessandro\n"
     ]
    },
    {
     "name": "stdout",
     "output_type": "stream",
     "text": [
      "\n",
      "\n",
      "Giulia\n",
      "Ale ... dro\n"
     ]
    }
   ],
   "source": [
    "#Soluzione 1: parole fino a 6 caratteri scritte per intero, da 7 caratteri in su con '...'\n",
    "\n",
    "parola1 = input(\"Inserisci una parola:\")        #Chiedo all'utente inserire una stringa\n",
    "parola2 = input(\"Inserisci un'altra parola:\")   #Chiedo all'utente inserire un'altra stringa per confronto  \n",
    "\n",
    "print(\"\\n\")                                     #Stampo nuova linea\n",
    "\n",
    "if len(parola1) <= 6:                           #Controllo se lunghezza della 1° stringa è <= a 6              \n",
    "    print(parola1)                              #Se la 1° stringa è corta, stampo così com'è\n",
    "else:                    \n",
    "    inizio1 = parola1[:3]                       #Altrimenti, prendo primi 3 caratteri della 1° stringa           \n",
    "    fine1 = parola1[-3:]                        #Prendo ultimi 3 caratteri della 1° stringa                   \n",
    "    print(inizio1, \"...\", fine1)                #Stampo primi 3 caratteri, seguiti da '...', e poi ultimi 3 caratteri della 1° stringa\n",
    "\n",
    "if len(parola2) <= 6:                           #Controllo se lunghezza della 2° stringa è <= a 6                 \n",
    "    print(parola2)                              #Se la 2° stringa è corta, stampo così com'è           \n",
    "else:               \n",
    "    inizio2 = parola2[:3]                       #Altrimenti, prendo primi 3 caratteri della 2° stringa           \n",
    "    fine2 = parola2[-3:]                        #Prendo ultimi 3 caratteri della 2° stringa          \n",
    "    print(inizio2, \"...\", fine2)                #Stampo primi 3 caratteri, seguiti da '...', e poi ultimi 3 caratteri della 2° stringa "
   ]
  },
  {
   "cell_type": "code",
   "execution_count": 13,
   "id": "1a06ab60-bace-4ba3-af8d-bcde822780bb",
   "metadata": {},
   "outputs": [
    {
     "name": "stdin",
     "output_type": "stream",
     "text": [
      "Inserisci una parola: Giulia\n",
      "Inserisci un'altra parola: Alessandro\n"
     ]
    },
    {
     "name": "stdout",
     "output_type": "stream",
     "text": [
      "\n",
      "\n",
      "La parola è troppo corta!\n",
      "Ale ... dro\n"
     ]
    }
   ],
   "source": [
    "#Soluzione 2: parole fino a 6 caratteri -> messaggio 'La parola è troppo corta', da 7 caratteri in su con '...'\n",
    "\n",
    "parola1 = input(\"Inserisci una parola:\")        #Chiedo all'utente inserire una stringa\n",
    "parola2 = input(\"Inserisci un'altra parola:\")   #Chiedo all'utente inserire un'altra stringa per confronto   \n",
    "\n",
    "print(\"\\n\")                                     #Stampo nuova linea\n",
    "               \n",
    "if len(parola1) <= 6:                           #Controllo se lunghezza della 1° stringa è <= a 6              \n",
    "    print(\"La parola è troppo corta!\")          #Se troppo corta, stampo così com'è con un messaggio    \n",
    "else:    \n",
    "    inizio1 = parola1[:3]                       #Altrimenti, prendo primi 3 caratteri della 1° stringa          \n",
    "    fine1 = parola1[-3:]                        #Prendo ultimi 3 caratteri della 1° stringa          \n",
    "    print(inizio1, \"...\", fine1)                #Stampo primi 3 caratteri, seguiti da '...', e poi ultimi 3 caratteri della 1° stringa   \n",
    "if len(parola2) <= 6:                           #Controllo se lunghezza della 2° stringa è <= a 6                 \n",
    "    print(\"La parola è troppo corta!\")          #Se troppo corta, stampo così com'è con un messaggio    \n",
    "else:    \n",
    "    inizio2 = parola2[:3]                       #Altrimenti, prendo primi 3 caratteri della 2° stringa\n",
    "    fine2 = parola2[-3:]                        #Prendo ultimi 3 caratteri della 2° stringa\n",
    "    print(inizio2, \"...\", fine2)                #Stampo primi 3 caratteri, seguiti da '...', e poi ultimi 3 caratteri della 2° stringa"
   ]
  },
  {
   "cell_type": "code",
   "execution_count": 14,
   "id": "3bd32d1d-88a0-47c3-b65d-b1637645a7c0",
   "metadata": {},
   "outputs": [
    {
     "name": "stdin",
     "output_type": "stream",
     "text": [
      "Inserisci una parola: Giulia\n",
      "Inserisci un'altra parola: Alessandro\n"
     ]
    },
    {
     "name": "stdout",
     "output_type": "stream",
     "text": [
      "\n",
      "\n",
      "Giu...\n",
      "Ale...dro\n"
     ]
    }
   ],
   "source": [
    "#Soluzione 3: parole con 3 caratteri sono scritte per intero, dai 4 caratteri in su hanno '...' \n",
    "\n",
    "parola1 = input(\"Inserisci una parola:\")             #Chiedo all'utente inserire una stringa\n",
    "parola2 = input(\"Inserisci un'altra parola:\")        #Chiedo all'utente inserire un'altra stringa per confronto   \n",
    "    \n",
    "print(\"\\n\")                                          #Stampo nuova linea\n",
    "                \n",
    "lunghezza1 = len(parola1)                            #Calcolo lunghezza della 1° stringa          \n",
    "                \n",
    "if lunghezza1 <= 3:                                  #Controllo se lunghezza della 1° stringa è <= a 3    \n",
    "    risultato1 = parola1                             #Se molto corta, stampo così com'è     \n",
    "elif lunghezza1 <= 6:                                #Controllo se lunghezza della 1° stringa è compresa tra 4 e 6    \n",
    "    risultato1 = parola1[:3] + \"...\"                 #Se di lunghezza media, prendo primi 3 caratteri e aggiungo '...'         \n",
    "else:                  \n",
    "    risultato1 = parola1[:3] + \"...\"                 \n",
    "    + parola1[-3:]                                   #Se più lunga, prendo primi 3 caratteri, aggiungo '...' e ultimi 3 caratteri     \n",
    "                \n",
    "print(risultato1)                                    #Stamporisultato finale della 1° stringa          \n",
    "                \n",
    "lunghezza2 = len(parola2)                            #Calcolo lunghezza della 2° stringa     \n",
    "                \n",
    "if lunghezza2 <= 3:                                  #Controllo se lunghezza della 2° stringa è <= a 3    \n",
    "    risultato2 = parola2                             #Se molto corta, stampo così com'è     \n",
    "elif lunghezza2 <= 6:                                #Controllo se lunghezza della 2° stringa è compresa tra 4 e 6    \n",
    "    risultato2 = parola2[:3] + \"...\"                 #Se di lunghezza media, prendo primi 3 caratteri e aggiungo '...'         \n",
    "else:  \n",
    "    risultato2 = parola2[:3] + \"...\" + parola2[-3:]  #Se più lunga, prendo primi 3, aggiungo '...' e ultimi 3 caratteri\n",
    "                                     \n",
    "print(risultato2)                                    #Stampo risultato finale della 2° stringa  "
   ]
  },
  {
   "cell_type": "markdown",
   "id": "135bf2b8-36df-4e78-97aa-4f85cb7483b9",
   "metadata": {},
   "source": [
    "#### Esercizio 8:\n",
    "Memorizza e stampa tutti i fattori di un numero dato in input."
   ]
  },
  {
   "cell_type": "code",
   "execution_count": 15,
   "id": "a3468883-1dde-4c93-9134-e5b36d6a7f9b",
   "metadata": {},
   "outputs": [
    {
     "name": "stdin",
     "output_type": "stream",
     "text": [
      "Inserisci un numero:  150\n"
     ]
    },
    {
     "name": "stdout",
     "output_type": "stream",
     "text": [
      "I fattori sono: [2, 3, 5, 5]\n"
     ]
    }
   ],
   "source": [
    "numero = int(input(\"Inserisci un numero: \"))    #Chiedo all'utente inserire numero -> casting\n",
    "divisore = 2                                    #Inizializzo divisore a 2 (primo numero 'primo')\n",
    "fattori = []                                    #Creo lista vuota per memorizzare fattori primi\n",
    "    \n",
    "while numero > 1:                               #Ciclo while per trovare fattori primi\n",
    "    resto = numero % divisore                   #Calcolo resto della divisione del numero per il divisore \n",
    "    if resto == 0:                              #Se resto è 0, divisore è un fattore primo del numero\n",
    "        numero /= divisore    \n",
    "        fattori.append(divisore)                #Aggiungo divisore alla lista fattori\n",
    "    else:    \n",
    "        divisore += 1                           #Se resto non è 0, incremento divisore di 1\n",
    "    \n",
    "print(f\"I fattori sono: {fattori}\")             #Stampo lista fattori primi"
   ]
  },
  {
   "cell_type": "markdown",
   "id": "61306f04-cb9d-49ae-98d2-443c82d1adfe",
   "metadata": {},
   "source": [
    "#### Esercizio 9:\n",
    "Stampare ogni carattere della stringa, uno su ogni riga, utilizzando un costrutto for.                                 \n",
    "*Ciclo for*: viene eseguito esattamente un numero di volte, tante quanti sono gli elementi presenti nella collezione"
   ]
  },
  {
   "cell_type": "code",
   "execution_count": 16,
   "id": "5010b166-9bec-4bdd-89bd-46dbbfceb361",
   "metadata": {},
   "outputs": [
    {
     "name": "stdout",
     "output_type": "stream",
     "text": [
      "Le lettere della stringa sono:\n",
      "- E\n",
      "- p\n",
      "- i\n",
      "- c\n",
      "- o\n",
      "- d\n",
      "- e\n"
     ]
    }
   ],
   "source": [
    "nome_scuola = \"Epicode\"                         #Definisco stringa 'nome_scuola'\n",
    "        \n",
    "print(\"Le lettere della stringa sono:\")         #Stampo una volta intestazione\n",
    "        \n",
    "for carattere in nome_scuola:                   #Ciclo for che itera attraverso ogni carattere della stringa\n",
    "    print(\"-\",carattere)                        #Stampo carattere corrente"
   ]
  },
  {
   "cell_type": "markdown",
   "id": "098ed28f-8dda-4e1a-a3e9-fb64643fbef1",
   "metadata": {},
   "source": [
    "Vantaggi nell'utilizzo del ciclo for (Es.9), rispetto al ciclo while (Es.1):\n",
    "1) **Chiarezza e leggibilità**: Il ciclo for è semplice e diretto.\n",
    "2) **Efficienza**: Stampa l'intestazione solo una volta, evitando ripetizioni inutili.\n",
    "3) **Semplicità**: Non richiede l'uso di variabili aggiuntive, come contatore o lunghezza."
   ]
  },
  {
   "cell_type": "markdown",
   "id": "028c8321-be4b-47f5-a8ce-d217df44fea6",
   "metadata": {},
   "source": [
    "#### Esercizio 10:\n",
    "Calcolare e stampare tutte le prime 10 potenze di 2, utilizzando un ciclo."
   ]
  },
  {
   "cell_type": "code",
   "execution_count": 17,
   "id": "1c81a407-7601-41ab-832a-fd28f534d443",
   "metadata": {},
   "outputs": [
    {
     "name": "stdout",
     "output_type": "stream",
     "text": [
      "Le prime 10 potenze di 2 sono: [2, 4, 8, 16, 32, 64, 128, 256, 512, 1024]\n"
     ]
    }
   ],
   "source": [
    "range_numerico = list()                                 #Inizializzo lista vuota, per memorizzare range numerico\n",
    "num = 1                                                 #Inizializzo variabile num a 1\n",
    "#Parto con inizializzazione della variabile num = 1 e metto <=10 nel while, per avere potenza da 1 a 10\n",
    "\n",
    "#Genero i primi 10 numeri\n",
    "while num <= 10:                                        #Ciclo while che continua finché num è <= a 10 -> condizione\n",
    "    range_numerico.append(num)                          #Aggiungo num corrente alla lista \n",
    "    num += 1                                            #Incremento variabile num di 1 -> update\n",
    "\n",
    "potenze_di_2 = []                                       #Lista per memorizzare potenze di 2\n",
    "\n",
    "for n in range_numerico:                                #Calcolo prime 10 potenze di 2\n",
    "    potenza = 2 ** n                                    #Calcolo potenza di 2 per ogni num nel range\n",
    "    potenze_di_2.append(potenza)                        #Aggiungo potenza alla lista delle potenze di 2\n",
    "\n",
    "print(\"Le prime 10 potenze di 2 sono:\", potenze_di_2)   #Stampo tutte prime 10 potenze di 2"
   ]
  },
  {
   "cell_type": "markdown",
   "id": "b985674f-4366-4120-bb17-4aa94287aee2",
   "metadata": {},
   "source": [
    "#### Esercizio 11:\n",
    "Calcolare (ma non stampare) le prime N potenze di K -> ognuna di esse andrà memorizzata in coda a una lista.              \n",
    "Alla fine, stampare la lista risultante. Proviamo con diversi valori di K, oppure facciamola inserire all'utente."
   ]
  },
  {
   "cell_type": "code",
   "execution_count": 18,
   "id": "26504822-66c6-45bb-8229-386ccf04cddc",
   "metadata": {},
   "outputs": [
    {
     "name": "stdin",
     "output_type": "stream",
     "text": [
      "Inserisci il numero di potenze da calcolare (N):  10\n",
      "Inserisci il valore di K:  3\n"
     ]
    },
    {
     "name": "stdout",
     "output_type": "stream",
     "text": [
      "Le prime 10 potenze di 3 sono: [3, 9, 27, 81, 243, 729, 2187, 6561, 19683, 59049]\n"
     ]
    }
   ],
   "source": [
    "#Versione con ciclo while\n",
    "\n",
    "#Chiedo all'utente inserire numero potenze da calcolare (N)\n",
    "N = int(input(\"Inserisci il numero di potenze da calcolare (N): \"))       #Converto input utente in int -> casting\n",
    "#Chiedo all'utente inserire valore di K\n",
    "K = int(input(\"Inserisci il valore di K: \"))                              #Converto input utente in un intero -> casting\n",
    "                   \n",
    "potenze = []                                                              #Inizializzo lista vuota, per memorizzare potenze di K\n",
    "esponente = 1                                                             #Inizializzo contatore a 0\n",
    "                               \n",
    "while esponente <= N:                                                     #Ciclo while per generare prime N potenze di K -> condizione\n",
    "    potenza = K ** esponente                                              #Calcolo potenza di K per il numero corrente\n",
    "    potenze.append(potenza)                                               #Aggiungo potenza di K alla lista\n",
    "    esponente += 1                                                        #Incremento contatore di 1 -> update\n",
    "                   \n",
    "print(\"Le prime\", N, \"potenze di\", K, \"sono:\", potenze)                   #Stampo lista delle potenze di K"
   ]
  },
  {
   "cell_type": "code",
   "execution_count": 19,
   "id": "548b34ef-2c02-447f-9e89-ba57433415b8",
   "metadata": {},
   "outputs": [
    {
     "name": "stdin",
     "output_type": "stream",
     "text": [
      "Inserisci il numero di potenze da calcolare (N):  10\n",
      "Inserisci il valore di K:  3\n"
     ]
    },
    {
     "name": "stdout",
     "output_type": "stream",
     "text": [
      "Le prime 10 potenze di 3 sono: [3, 9, 27, 81, 243, 729, 2187, 6561, 19683, 59049]\n"
     ]
    }
   ],
   "source": [
    "#Versione con ciclo for\n",
    "\n",
    "#Chiedo all'utente inserire numero potenze da calcolare (N)\n",
    "N = int(input(\"Inserisci il numero di potenze da calcolare (N): \"))       #Converto input utente in un intero -> casting\n",
    "#Chiedo all'utente inserire valore di K\n",
    "K = int(input(\"Inserisci il valore di K: \"))                              #Converto input utente in un intero -> casting\n",
    "                 \n",
    "potenze = []                                                              #Inizializzo lista vuota, per memorizzare potenze di K\n",
    "                 \n",
    "for esponente in range(1, N + 1):                                         #Ciclo for per generare prime N potenze di K\n",
    "    potenza = K ** esponente                                              #Calcolo potenza di K per numero corrente\n",
    "    potenze.append(potenza)                                               #Aggiungo potenza di K alla lista\n",
    "                 \n",
    "print(\"Le prime\", N, \"potenze di\", K, \"sono:\", potenze)                   #Stampo lista delle potenze di K"
   ]
  },
  {
   "cell_type": "markdown",
   "id": "db400cee-da0b-4307-9eca-007be15d1754",
   "metadata": {},
   "source": [
    "#### Esercizio 12:\n",
    "Con la lista dei guadagni degli ultimi 12 mesi, usando un costrutto for, calcolare la media dei guadagni e stamparla a video."
   ]
  },
  {
   "cell_type": "code",
   "execution_count": 20,
   "id": "bc683ee0-cf15-4a47-bf2b-10c450417268",
   "metadata": {},
   "outputs": [
    {
     "name": "stdout",
     "output_type": "stream",
     "text": [
      "La media dei guadagni degli ultimi 12 mesi è: 70.0\n"
     ]
    }
   ],
   "source": [
    "guadagni = [100, 90, 70, 40, 50, 80, 90, 120, 80, 20, 50, 50]             #Lista guadagni ultimi 12 mesi\n",
    "somma = 0                                                                 #Inizializzo variabile, per somma guadagni\n",
    "            \n",
    "for guadagno in guadagni:                                                 #Ciclo for per sommare tutti guadagni\n",
    "    somma += guadagno            \n",
    "            \n",
    "media = somma / len(guadagni)                                             #Calcolo media guadagni\n",
    "            \n",
    "print(\"La media dei guadagni degli ultimi 12 mesi è:\", media)             #Stampo media guadagni "
   ]
  },
  {
   "cell_type": "markdown",
   "id": "627c97b1-779f-440d-86c2-9b3ac0cb965c",
   "metadata": {},
   "source": [
    "#### Esercizio 13:\n",
    "Data la lista, stampiamo, per ogni parola, quante volte appare la lettera \"e\".                                                           \n",
    "Attenzione al fatto che appare sia maiuscola che minuscola."
   ]
  },
  {
   "cell_type": "code",
   "execution_count": 21,
   "id": "8734cf5a-f99a-46f1-bdb6-d67c4670f7c4",
   "metadata": {},
   "outputs": [
    {
     "name": "stdout",
     "output_type": "stream",
     "text": [
      "Il numero di lettere 'e' in Albergo è 1\n",
      "Il numero di lettere 'e' in Sedia è 1\n",
      "Il numero di lettere 'e' in Borgo è 0\n",
      "Il numero di lettere 'e' in Petalo è 1\n",
      "Il numero di lettere 'e' in Eremo è 2\n",
      "Il numero di lettere 'e' in Belvedere è 4\n",
      "Il numero di lettere 'e' in Semestre è 3\n",
      "Il numero di lettere 'e' in Esteta è 2\n",
      "Il numero di lettere 'e' in Sosta è 0\n",
      "Il numero di lettere 'e' in Orpello è 1\n",
      "Il numero di lettere 'e' in Abete è 2\n",
      "Il numero di lettere 'e' in Orologio è 0\n",
      "Il numero di lettere 'e' in Cesta è 1\n",
      "Il numero di lettere 'e' in Ermellino è 2\n"
     ]
    }
   ],
   "source": [
    "#Lista di parole\n",
    "parole = [\"Albergo\",\"Sedia\",\"Borgo\",\"Petalo\",\"Eremo\",\"Belvedere\",\"Semestre\",\"Esteta\",\"Sosta\",\n",
    "          \"Orpello\",\"Abete\",\"Orologio\",\"Cesta\",\"Ermellino\"]\n",
    "\n",
    "for parola in parole:                                                     #Ciclo for per iterare su ogni parola nella lista\n",
    "    conteggio_e = parola.lower().count('e')                               #Conto numero occorrenze lettera 'e' (maiuscola e minuscola)\n",
    "    print(f\"Il numero di lettere 'e' in {parola} è {conteggio_e}\")        #Stampo risultato "
   ]
  },
  {
   "cell_type": "markdown",
   "id": "16e829c3-c88a-4306-b804-c5f308ffe6c1",
   "metadata": {},
   "source": [
    "#### Esercizio 14:\n",
    "Creiamo un dizionario che assegni ad ogni proprietario la sua auto.                                                                      \n",
    "Stampiamo il dizionario per intero, e poi l'auto associata a Debbie."
   ]
  },
  {
   "cell_type": "code",
   "execution_count": 22,
   "id": "cf605c8f-e755-4c1b-bfd1-f142ad8d81fc",
   "metadata": {},
   "outputs": [
    {
     "name": "stdout",
     "output_type": "stream",
     "text": [
      "Dizionario dei proprietari e delle loro auto: {'Ada': 'Punto', 'Ben': 'Multipla', 'Charlie': 'Golf', 'Debbie': '107'}\n",
      "L'auto di Debbie è: 107\n"
     ]
    }
   ],
   "source": [
    "#Creo dizionario con proprietari e loro auto\n",
    "auto_proprietari = {\"Ada\": \"Punto\", \"Ben\": \"Multipla\", \"Charlie\": \"Golf\", \"Debbie\": \"107\"}\n",
    "\n",
    "#Stampo dizionario per intero\n",
    "print(\"Dizionario dei proprietari e delle loro auto:\", auto_proprietari)\n",
    "\n",
    "#Stampo auto associata a Debbie\n",
    "print(\"L'auto di Debbie è:\", auto_proprietari[\"Debbie\"])"
   ]
  },
  {
   "cell_type": "markdown",
   "id": "865f3e9e-e24f-459e-ac32-934d60dc6146",
   "metadata": {},
   "source": [
    "#### Esercizio 15:\n",
    "Con un ciclo, e usando il metodo .values(), stampiamo a video tutte le auto che non sono una Multipla."
   ]
  },
  {
   "cell_type": "code",
   "execution_count": 23,
   "id": "47d30158-0df4-49f0-8741-0c81d7592a39",
   "metadata": {},
   "outputs": [
    {
     "name": "stdout",
     "output_type": "stream",
     "text": [
      "Ada : Punto\n",
      "Charlie : Golf\n",
      "Debbie : 107\n",
      "\n",
      "\n",
      "Punto\n",
      "Golf\n",
      "107\n"
     ]
    }
   ],
   "source": [
    "#Dizionario che assegna ad ogni proprietario la sua auto\n",
    "auto_proprietari = {\"Ada\": \"Punto\", \"Ben\": \"Multipla\", \"Charlie\": \"Golf\", \"Debbie\": \"107\"}\n",
    "\n",
    "#Metodo .items() -> mettendo due parametri nel for(chiave, valore), lui restituisce coppia chiave-valore\n",
    "for chiave, valore in auto_proprietari.items():                           #Ciclo for per iterare sugli elementi dizionario  \n",
    "    if valore != \"Multipla\":                                              #Controllo se valore non è 'Multipla'\n",
    "        print(chiave, \":\", valore)                                        #Stampo chiave e valore, se valore non è 'Multipla'\n",
    "\n",
    "print(\"\\n\")                                                               #Stampo nuova linea\n",
    "\n",
    "#Metodo .values() -> restituisce solo valori del dizionario\n",
    "for auto in auto_proprietari.values():                                    #Ciclo for per iterare sui valori dizionario\n",
    "    if auto != \"Multipla\":                                                #Controllo se auto non è 'Multipla'\n",
    "        print(auto)                                                       #Stampo auto se non è 'Multipla'"
   ]
  },
  {
   "cell_type": "markdown",
   "id": "7abd2009-6c40-4aad-8c0f-1a436429da49",
   "metadata": {},
   "source": [
    "#### Esercizio 16:\n",
    "Aggiornare il dizionario auto_proprietari con i dati contenuti in nuovi_proprietari e stamparlo.                                         \n",
    "Cosa è successo a Ben?"
   ]
  },
  {
   "cell_type": "code",
   "execution_count": 24,
   "id": "b9e40a23-4984-4209-9133-7f27c3c4bc5b",
   "metadata": {},
   "outputs": [
    {
     "name": "stdout",
     "output_type": "stream",
     "text": [
      "Dizionario aggiornato: {'Ada': 'Punto', 'Ben': 'Polo', 'Charlie': 'Golf', 'Debbie': '107', 'Emily': 'A1', 'Fred': 'Octavia', 'Grace': 'Yaris', 'Hugh': 'Clio'}\n",
      "Ora Ben come auto ha una Polo\n"
     ]
    }
   ],
   "source": [
    "#Dizionario che assegna ad ogni proprietario la propria auto\n",
    "auto_proprietari = {\"Ada\": \"Punto\", \"Ben\": \"Multipla\", \"Charlie\": \"Golf\", \"Debbie\": \"107\", \"Emily\": \"A1\"}\n",
    "#Nuovi proprietari con le loro auto\n",
    "nuovi_proprietari = {\"Ben\": \"Polo\", \"Fred\": \"Octavia\", \"Grace\": \"Yaris\", \"Hugh\": \"Clio\"}\n",
    "#Unica chiave comune è \"Ben\" -> update del valore\n",
    "\n",
    "auto_proprietari.update(nuovi_proprietari)                                #Aggiorno dizionario con dati nuovi_proprietari\n",
    "    \n",
    "print(\"Dizionario aggiornato:\", auto_proprietari)                         #Stampo dizionario aggiornato\n",
    "print(\"Ora Ben come auto ha una\", auto_proprietari[\"Ben\"])                #Verifico cosa è successo a Ben -> valore aggiornato"
   ]
  },
  {
   "cell_type": "markdown",
   "id": "ab2345a0-06c7-4772-b0d5-112e35a143f4",
   "metadata": {},
   "source": [
    "#### Esercizio 17:\n",
    "Osservando la sintassi dei dizionari, possiamo notare qualche affinità con il formato JSON?\n",
    "\n",
    "La sintassi dei dizionari in Python ha molte affinità con il formato JSON. Ecco alcune somiglianze:\n",
    "\n",
    "1) **Struttura chiave-valore**:\n",
    "* Dizionari Python: {chiave: valore}\n",
    "* JSON: {\"chiave\": \"valore\"}\n",
    "\n",
    "2) **Virgolette**:\n",
    "* Dizionari Python: Le chiavi possono essere racchiuse tra virgolette singole o doppie.\n",
    "* JSON: Le chiavi devono essere racchiuse tra virgolette doppie.\n",
    "\n",
    "3) **Tipi di dati**:\n",
    "* Dizionari Python: Supportano vari tipi di dati come stringhe, numeri, liste, ecc.\n",
    "* JSON: Supporta stringhe, numeri, array (liste), oggetti (dizionari), booleani e null.\n",
    "\n",
    "Ecco un esempio di dizionario Python e il suo equivalente JSON:\n",
    "\n",
    "* **Dizionario Python**:\n",
    "\n",
    "<pre>dizionario = {'nome': 'Mario',\n",
    "              'età': 30,\n",
    "              'interessi': ['calcio', 'lettura']}\n",
    "</pre>\n",
    "* **JSON**:\n",
    "\n",
    "<pre>{\"nome\": \"Mario\",\n",
    " \"età\": 30,\n",
    " \"interessi\": [\"calcio\", \"lettura\"]}\n",
    "</pre>\n",
    "La struttura è molto simile -> La principale differenza è l'uso obbligatorio delle virgolette doppie per le chiavi in JSON."
   ]
  },
  {
   "cell_type": "markdown",
   "id": "3faab3dc-beac-416e-bfd3-a7c96a7782de",
   "metadata": {},
   "source": [
    "#### Esercizio 18:\n",
    "Scrivere un programma che, data una lista di numeri, fornisca in output il minimo e il massimo.                      \n",
    "Possiamo usare o meno le funzioni built-in min() e max()."
   ]
  },
  {
   "cell_type": "code",
   "execution_count": 25,
   "id": "c0ef6a84-8ac6-4910-babf-7581e50d2f96",
   "metadata": {},
   "outputs": [
    {
     "name": "stdout",
     "output_type": "stream",
     "text": [
      "Il minimo è 1 ed il massimo è 9\n"
     ]
    }
   ],
   "source": [
    "#Versione con funzioni built-in\n",
    "\n",
    "numeri = [3, 5, 1, 9, 2, 8, 4, 7, 6]  #Lista numeri\n",
    "\n",
    "#Trovo minimo e massimo, utilizzando funzioni built-in\n",
    "minimo = min(numeri)\n",
    "massimo = max(numeri)\n",
    "\n",
    "#Stampo minimo e massimo\n",
    "print(\"Il minimo è\", minimo, \"ed il massimo è\", massimo)"
   ]
  },
  {
   "cell_type": "code",
   "execution_count": 26,
   "id": "909f2e23-ea7b-4671-be50-b614900298e6",
   "metadata": {},
   "outputs": [
    {
     "name": "stdout",
     "output_type": "stream",
     "text": [
      "Il minimo è 1 ed il massimo è 9\n"
     ]
    }
   ],
   "source": [
    "#Versione senza funzioni built-in\n",
    "\n",
    "numeri = [3, 5, 1, 9, 2, 8, 4, 7, 6]                                      #Lista di numeri\n",
    "\n",
    "#Inizializzo minimo e massimo ai primi valori della lista\n",
    "minimo = numeri[0]                                                        #Assegno primo valore lista alla variabile minimo\n",
    "massimo = numeri[0]                                                       #Assegno primo valore lista alla variabile massimo\n",
    "\n",
    "#Ciclo for per trovare minimo e massimo\n",
    "for numero in numeri:                                                     #Itero attraverso ogni numero nella lista\n",
    "    if numero < minimo:                                                   #Se numero corrente è < del minimo attuale\n",
    "        minimo = numero                                                   #Aggiorno minimo con numero corrente\n",
    "    if numero > massimo:                                                  #Se numero corrente è > del massimo attuale\n",
    "        massimo = numero                                                  #Aggiorno massimo con numero corrente\n",
    "\n",
    "#Stampo minimo e massimo\n",
    "print(\"Il minimo è\", minimo, \"ed il massimo è\", massimo)"
   ]
  },
  {
   "cell_type": "markdown",
   "id": "09d6e36d-500d-49fc-a8b5-8739029ddfb2",
   "metadata": {},
   "source": [
    "#### Esercizio 19:\n",
    "Scrivere un programma che, data una lista di numeri, fornisca in output i tre numeri più grandi.                                         \n",
    "Gestire il caso in cui la lista sia più corta di tre, e quando uno o più dei numeri selezionati sono uguali."
   ]
  },
  {
   "cell_type": "code",
   "execution_count": 27,
   "id": "a86018a2-1e70-4783-a0cd-198b8a0697b7",
   "metadata": {},
   "outputs": [
    {
     "name": "stdout",
     "output_type": "stream",
     "text": [
      "I tre numeri più grandi sono: [100, 105, 500]\n"
     ]
    }
   ],
   "source": [
    "numeri = [2, 5, 8, 10, 500, 20, -4, 25, 60, 100, 105]                     #Lista numeri\n",
    "                 \n",
    "if len(numeri) < 3:                                                       #Controllo se lista ha meno di tre elementi\n",
    "    print(\"La lista ha meno di tre elementi e sono:\", numeri)             #Stampo così com'è con un messaggio\n",
    "else:\n",
    "    numeri.sort()                                                         #Ordino lista in ordine crescente, con metodo .sort()\n",
    "    tre_maggiori = numeri[-3:]                                            #Prendo ultimi tre elementi lista ordinata, con lo slicing\n",
    "    print(\"I tre numeri più grandi sono:\", tre_maggiori)                  #Stampo tre numeri più grandi"
   ]
  },
  {
   "cell_type": "markdown",
   "id": "d7b70a84-c825-4ff6-b567-337260430400",
   "metadata": {},
   "source": [
    "##### *Metodo .sort() per ordinare*"
   ]
  },
  {
   "cell_type": "code",
   "execution_count": 28,
   "id": "a704236c-b94b-4f99-a379-c2a3c6fec03c",
   "metadata": {},
   "outputs": [
    {
     "name": "stdout",
     "output_type": "stream",
     "text": [
      "Help on built-in function sort:\n",
      "\n",
      "sort(*, key=None, reverse=False) method of builtins.list instance\n",
      "    Sort the list in ascending order and return None.\n",
      "\n",
      "    The sort is in-place (i.e. the list itself is modified) and stable (i.e. the\n",
      "    order of two equal elements is maintained).\n",
      "\n",
      "    If a key function is given, apply it once to each list item and sort them,\n",
      "    ascending or descending, according to their function values.\n",
      "\n",
      "    The reverse flag can be set to sort in descending order.\n",
      "\n"
     ]
    }
   ],
   "source": [
    "help(numeri.sort)         #reverse=False -> odirna in modo crescente\n",
    "#reverse=True -> ordina in modo decrescente"
   ]
  },
  {
   "cell_type": "markdown",
   "id": "613c670d-0daf-4bc2-8cd3-a32866f161f2",
   "metadata": {},
   "source": [
    "##### *Funzioni e parametri di default di print*"
   ]
  },
  {
   "cell_type": "code",
   "execution_count": 29,
   "id": "d3950503-5a44-45dd-b25c-c25a346cc92e",
   "metadata": {},
   "outputs": [
    {
     "name": "stdout",
     "output_type": "stream",
     "text": [
      "Help on built-in function print in module builtins:\n",
      "\n",
      "print(*args, sep=' ', end='\\n', file=None, flush=False)\n",
      "    Prints the values to a stream, or to sys.stdout by default.\n",
      "\n",
      "    sep\n",
      "      string inserted between values, default a space.\n",
      "    end\n",
      "      string appended after the last value, default a newline.\n",
      "    file\n",
      "      a file-like object (stream); defaults to the current sys.stdout.\n",
      "    flush\n",
      "      whether to forcibly flush the stream.\n",
      "\n"
     ]
    }
   ],
   "source": [
    "help(print)               #parametri extra: sep=' ' -> separatore (posso modificare lo spazio tra un valore e l'altro)\n",
    "#end='\\n' -> mi permette di cambiare quello che c'è alla fine della stringa (di default c'è '\\n' -> a capo)"
   ]
  },
  {
   "cell_type": "code",
   "execution_count": 30,
   "id": "a4a93fb6-cf04-4778-ab0e-e291a420f643",
   "metadata": {},
   "outputs": [
    {
     "name": "stdout",
     "output_type": "stream",
     "text": [
      "Ciao, come stai?\n"
     ]
    }
   ],
   "source": [
    "print(\"Ciao\", \"come stai?\", sep=\", \")       #Es. con parametro sep"
   ]
  },
  {
   "cell_type": "code",
   "execution_count": 31,
   "id": "bda204f8-b5cf-4fc8-97f6-7ec107b7289a",
   "metadata": {},
   "outputs": [
    {
     "name": "stdout",
     "output_type": "stream",
     "text": [
      "Ciao, a tutti\n"
     ]
    }
   ],
   "source": [
    "print(\"Ciao\", end=\", \")                     #Es. con parametro end\n",
    "print(\"a tutti\")                            #Stampo tutto su una riga"
   ]
  },
  {
   "cell_type": "markdown",
   "id": "5eadd1c6-c22e-429f-bbd6-86cbaa525329",
   "metadata": {},
   "source": [
    "#### Esercizio 20:\n",
    "Scrivere un programma che in input acquisisce una lista di numeri e un numero K.                                                         \n",
    "In output, dovrà restituire la media di tutti i numeri nella lista maggiori o uguali a K.                                                \n",
    "Se non ce ne dovesse essere nessuno, dovrà stampare a schermo un messaggio adeguato."
   ]
  },
  {
   "cell_type": "code",
   "execution_count": 32,
   "id": "8df5bc8a-f5ad-4ba1-83df-7806a601cc7f",
   "metadata": {},
   "outputs": [
    {
     "name": "stdout",
     "output_type": "stream",
     "text": [
      "La media dei numeri maggiori o uguali a 50 è: 191.25\n"
     ]
    }
   ],
   "source": [
    "lista_numeri = [2, 5, 8, 10, 500, 20, -4, 25, 60, 100, 105]               #Lista numeri\n",
    "K = 50                                                                    #Valore di K\n",
    "numeri_filtrati = []                                                      #Inizializzo lista vuota, per memorizzare numeri filtrati\n",
    "             \n",
    "for num in lista_numeri:                                                  #Itero attraverso ogni numero nella lista -> condizione\n",
    "    if num >= K:                                                          #Controllo se numero è >= a K\n",
    "        numeri_filtrati.append(num)                                       #Aggiungo numero alla lista numeri filtrati -> update\n",
    "             \n",
    "if numeri_filtrati:                                                       #Controllo se ci sono numeri filtrati\n",
    "    media = sum(numeri_filtrati) / len(numeri_filtrati)                   #Calcolo media numeri filtrati\n",
    "    print(f\"La media dei numeri maggiori o uguali a {K} è: {media}\")      #Stampo media\n",
    "else:\n",
    "    print(\"Nessun numero maggiore o uguale a K nella lista.\")             #Stampo messaggio, se non ci sono numeri filtrati"
   ]
  },
  {
   "cell_type": "markdown",
   "id": "f3253fa8-d013-4511-b7bf-c4a1ab8ae4c2",
   "metadata": {},
   "source": [
    "#### Esercizio 21:\n",
    "Scrivere un programma che, come output, stamperà lo stesso numero di asterischi su righe diverse, ottenendo una semplice visualizzazione grafica. \n",
    ">Con l'esempio dato, l'output sarà: ***** ** *** ****"
   ]
  },
  {
   "cell_type": "code",
   "execution_count": 33,
   "id": "dede05bc-b1c1-4342-8f80-50519621f0b4",
   "metadata": {},
   "outputs": [
    {
     "name": "stdout",
     "output_type": "stream",
     "text": [
      "*****\n",
      "**\n",
      "***\n",
      "****\n"
     ]
    }
   ],
   "source": [
    "numeri = [5, 2, 3, 4]                                                     #Lista numeri\n",
    "                                                \n",
    "for numero in numeri:                                                     #Itero attraverso ogni numero nella lista\n",
    "    print('*' * numero)                                                   #Stampo numero * pari al valore numero su nuova riga\n",
    "#Nella print(), primo * è un carattere, secondo * è un operatore"
   ]
  },
  {
   "cell_type": "markdown",
   "id": "36d14290-6cf9-4d04-bf78-042a547dd161",
   "metadata": {},
   "source": [
    "#### Esercizio 22:\n",
    "Abbiamo una lista di codici fiscali. Trovare i codici fiscali che contengono \"95\", metterli in una lista, e alla fine stamparla.         \n",
    "Per ognuno di essi, stampare a video i caratteri relativi al nome e quelli relativi al cognome."
   ]
  },
  {
   "cell_type": "code",
   "execution_count": 34,
   "id": "53e70b6b-add7-418d-b7c0-79f44bee3fd2",
   "metadata": {},
   "outputs": [
    {
     "name": "stdout",
     "output_type": "stream",
     "text": [
      "Codici fiscali che contengono '95': ['ABCDEF95G01A123B', 'STUVWX95Z04A654E', 'DEFGHI95J06A987G']\n",
      "Codice fiscale: ABCDEF95G01A123B, Cognome: ABC, Nome: DEF\n",
      "Codice fiscale: STUVWX95Z04A654E, Cognome: STU, Nome: VWX\n",
      "Codice fiscale: DEFGHI95J06A987G, Cognome: DEF, Nome: GHI\n"
     ]
    }
   ],
   "source": [
    "lista_cf = [\"ABCDEF95G01A123B\", \"GHIJKL91M02A321C\", \"MNOPQR89S03A456D\", \"STUVWX95Z04A654E\", \n",
    "            \"XYZABC01D05A789F\", \"DEFGHI95J06A987G\"]                     #Lista codici fiscali\n",
    "\n",
    "lista_cf_95 = []                                                        #Inizializzo lista vuota, per memorizzare codici fiscali con '95'\n",
    "                                        \n",
    "for cf in lista_cf:                                                     #Itero attraverso ogni codice fiscale nella lista\n",
    "    if \"95\" in cf:                                                      #Controllo se \"95\" è presente nel codice fiscale\n",
    "        lista_cf_95.append(cf)                                          #Aggiungo codice fiscale con '95' alla lista\n",
    "print(\"Codici fiscali che contengono '95':\", lista_cf_95)               #Stampo lista codici fiscali con '95'\n",
    "\n",
    "for cf in lista_cf_95:                                                  #Itero attraverso ogni codice fiscale della lista codici filtrati\n",
    "    cognome = cf[:3]                                                    #Primi 3 caratteri, relativi al cognome \n",
    "    nome = cf[3:6]                                                      #Successivi 3 caratteri, relativi al nome\n",
    "    print(f\"Codice fiscale: {cf}, Cognome: {cognome}, Nome: {nome}\")    #Stampo con cognome e nome"
   ]
  },
  {
   "cell_type": "markdown",
   "id": "c3d9035e-8d74-4c36-b3cc-1cf1caafd8f0",
   "metadata": {},
   "source": [
    "#### Esercizio 23:\n",
    "Abbiamo tre liste della stessa lunghezza, dove ogni elemento nella medesima posizione, si riferisce ai dati dello stesso studente.       \n",
    "Stampare a video tutti e soli gli studenti che frequentano una prima edizione; non tutti i dati potrebbero essere  necessari.            \n",
    "Riuscite a vedere una similarità con la logica che si usa in SQL e le tabelle relazionali?"
   ]
  },
  {
   "cell_type": "code",
   "execution_count": 35,
   "id": "6be10f30-f255-4ea0-b9e9-3ab42bea275a",
   "metadata": {},
   "outputs": [
    {
     "name": "stdout",
     "output_type": "stream",
     "text": [
      "Studente: Alex, Corso: Cybersecurity, Edizione: 1\n",
      "Studente: Faith, Corso: Backend, Edizione: 1\n"
     ]
    }
   ],
   "source": [
    "#Liste studenti, corsi e edizioni\n",
    "studenti = [\"Alex\", \"Bob\", \"Cindy\", \"Dan\", \"Emma\", \"Faith\", \"Grace\", \"Henry\"]\n",
    "corsi = [\"Cybersecurity\", \"Data Analyst\", \"Backend\", \"Frontend\", \"Data Analyst\", \"Backend\", \"Frontend\", \"Cybersecurity\"]\n",
    "edizioni = [1, 2, 3, 2, 2, 1, 3, 3]\n",
    "\n",
    "#Stampo gli studenti che frequentano una prima edizione\n",
    "for i in range(len(studenti)):                                                         #Itero attraverso ogni indice della lista studenti\n",
    "    if edizioni[i] == 1:                                                               #Controllo se edizione corrente è prima edizione\n",
    "        print(f\"Studente: {studenti[i]}, Corso: {corsi[i]}, Edizione: {edizioni[i]}\")  #Stampo dettagli studente"
   ]
  },
  {
   "cell_type": "markdown",
   "id": "764443bd-6c03-4bba-b723-eb76205edc59",
   "metadata": {},
   "source": [
    ">Similarità con SQL e tabelle relazionali -> c'è una chiara similarità con la logica usata in SQL e le tabelle relazionali.              \n",
    "In SQL, potresti ottenere lo stesso risultato, utilizzando una query SELECT, con una condizione WHERE. \n",
    "\n",
    ">Ecco un esempio di come potrebbe apparire una query SQL:                                                                \n",
    "SELECT studenti, corsi, edizioni\n",
    "FROM tabella_studenti\n",
    "WHERE edizioni = 1;\n",
    "\n",
    ">In questo caso, tabella_studenti rappresenta una tabella relazionale, che contiene le colonne studenti, corsi e edizioni.               \n",
    "La query seleziona tutte le righe dove l'edizione è uguale a 1, simile a come il programma Python filtra gli studenti."
   ]
  },
  {
   "cell_type": "markdown",
   "id": "3d75daed-f59c-4d07-ae9f-8370fa1825ce",
   "metadata": {},
   "source": [
    "#### Esercizio 24:\n",
    "Abbiamo una lista di stringhe di prezzi in dollari, che erroneamente sono stati scritti in euro.                                         \n",
    "Cambiare il simbolo dell'euro (€) in quello del dollaro ($) per ogni stringa nella lista -> il risultato sarà memorizzato in un'altra lista."
   ]
  },
  {
   "cell_type": "code",
   "execution_count": 36,
   "id": "67edf9d4-cb10-43a0-b292-1ce1b356cf57",
   "metadata": {},
   "outputs": [
    {
     "name": "stdout",
     "output_type": "stream",
     "text": [
      "Prezzi in euro: ['100 €', '200 €', '500 €', '10 €', '50 €', '70 €']\n",
      "Prezzi in dollari: ['100 $', '200 $', '500 $', '10 $', '50 $', '70 $']\n"
     ]
    }
   ],
   "source": [
    "prezzi = [\"100 €\", \"200 €\", \"500 €\", \"10 €\", \"50 €\", \"70 €\"]            #Lista stringhe di prezzi in €\n",
    "print(\"Prezzi in euro:\", prezzi)                                        #Stampo lista prezzi originale, con simbolo €\n",
    "prezzi_dollari = []                                                     #Inizializzo lista vuota, per memorizzare prezzi in $\n",
    "\n",
    "for prezzo in prezzi:                                                   #Itero attraverso ogni stringa prezzo nella lista\n",
    "    prezzo_dollari = prezzo.replace(\"€\", \"$\")                           #Sostituisco il simbolo dell'€ con quello del $\n",
    "    prezzi_dollari.append(prezzo_dollari)                               #Aggiungo prezzo convertito alla lista prezzi in $\n",
    "               \n",
    "print(\"Prezzi in dollari:\", prezzi_dollari)                             #Stampo lista prezzi modificata, con simbolo $"
   ]
  },
  {
   "cell_type": "markdown",
   "id": "35730c64-7177-4afd-9bf9-1cc01dcee03e",
   "metadata": {},
   "source": [
    "#### Esercizio 25:\n",
    "Abbiamo una lista di studenti. Vogliamo dividere gli studenti in due squadre per un campionato di Uno.                                   \n",
    "Selezioneremo i nomi in posizione pari per un squadra, i nomi in posizione dispari per l'altra.                                          \n",
    "Creiamo due liste per ogni squadra, e alla fine visualizziamole."
   ]
  },
  {
   "cell_type": "code",
   "execution_count": 37,
   "id": "8cfeced9-bc2c-427d-91bf-591cb56c1a0e",
   "metadata": {},
   "outputs": [
    {
     "name": "stdout",
     "output_type": "stream",
     "text": [
      "Squadra Pari: ['Alex', 'Cindy', 'Emma', 'Grace', 'Isabelle'] \n",
      "Squadra Dispari: ['Bob', 'Dan', 'Faith', 'Henry', 'John']\n"
     ]
    }
   ],
   "source": [
    "#Versione con slicing\n",
    "\n",
    "#Lista studenti\n",
    "studenti = [\"Alex\", \"Bob\", \"Cindy\", \"Dan\", \"Emma\", \"Faith\", \"Grace\", \"Henry\", \"Isabelle\", \"John\"]\n",
    "\n",
    "#Utilizzo slicing -> divido studenti in due squadre\n",
    "squadra_pari = studenti[::2]                                            #Squadra studenti posizione pari\n",
    "squadra_dispari = studenti[1::2]                                        #Squadra studenti posizione dispari\n",
    "\n",
    "#Stampo squadre in unica funzione print, andando a capo con seconda dispari\n",
    "print(\"Squadra Pari:\", squadra_pari, \"\\nSquadra Dispari:\", squadra_dispari)\n",
    "#\"\\nSquadra Dispari:\" -> \\n lo utilizzo per andare a capo nell'output"
   ]
  },
  {
   "cell_type": "code",
   "execution_count": 38,
   "id": "8d99231e-f88a-48a7-9737-da895a91693a",
   "metadata": {},
   "outputs": [
    {
     "name": "stdout",
     "output_type": "stream",
     "text": [
      "Squadra Pari: ['Alex', 'Cindy', 'Emma', 'Grace', 'Isabelle'] \n",
      "Squadra Dispari: ['Bob', 'Dan', 'Faith', 'Henry', 'John']\n"
     ]
    }
   ],
   "source": [
    "#Versione con ciclo for\n",
    "\n",
    "#Lista studenti\n",
    "studenti = [\"Alex\", \"Bob\", \"Cindy\", \"Dan\", \"Emma\", \"Faith\", \"Grace\", \"Henry\", \"Isabelle\", \"John\"]\n",
    "\n",
    "#Inizializzo le liste per le due squadre\n",
    "squadra_pari = []                                                              #Squadra studenti posizione pari\n",
    "squadra_dispari = []                                                           #Squadra studenti posizione dispari\n",
    "                                 \n",
    "for i in range(len(studenti)):                                                 #Itero attraverso ogni indice lista studenti\n",
    "    if i % 2 == 0:                                                             #Controllo se indice è pari\n",
    "        squadra_pari.append(studenti[i])                                       #Aggiungo studente alla squadra pari\n",
    "    else:                                                                      #Se indice è dispari\n",
    "        squadra_dispari.append(studenti[i])                                    #Aggiungo studente alla squadra dispari\n",
    "\n",
    "print(\"Squadra Pari:\", squadra_pari, \"\\nSquadra Dispari:\", squadra_dispari)    #Stampo squadre\n",
    "#\"\\nSquadra Dispari:\" -> \\n lo utilizzo per andare a capo nell'output"
   ]
  },
  {
   "cell_type": "markdown",
   "id": "7dac71b5-ee44-40c9-87f4-ac795bc5185f",
   "metadata": {},
   "source": [
    "#### Esercizio 26:\n",
    "Abbiamo una lista con i guadagni degli ultimi 12 mesi (supponiamo da Gennaio a Dicembre).                                                \n",
    "Dobbiamo confrontare, stampando tutto a video, il guadagno di ogni mese con la media dei guadagni precedenti e specificare nell'output se il guadagno attuale è maggiore o minore della media dei precedenti.                                                                   \n",
    ">Esempio di un possibile output:                                                                                        \n",
    "Mese 1: 100 €                                                                                                          \n",
    "Mese 2: 90 € (media prec: 100 € - il guadagno attuale è minore)                                                        \n",
    "Mese 3: 70 € (media prec: 95€ - il guadagno attuale è minore)"
   ]
  },
  {
   "cell_type": "code",
   "execution_count": 39,
   "id": "ce6294ea-58cf-45f8-a83e-689495a50399",
   "metadata": {},
   "outputs": [
    {
     "name": "stdout",
     "output_type": "stream",
     "text": [
      "Mese 1: 100€\n",
      "Mese 2: 90€ (media prec: 100.00€ - il guadagno attuale è minore)\n",
      "Mese 3: 70€ (media prec: 95.00€ - il guadagno attuale è minore)\n",
      "Mese 4: 40€ (media prec: 86.67€ - il guadagno attuale è minore)\n",
      "Mese 5: 50€ (media prec: 75.00€ - il guadagno attuale è minore)\n",
      "Mese 6: 80€ (media prec: 70.00€ - il guadagno attuale è maggiore)\n",
      "Mese 7: 90€ (media prec: 71.67€ - il guadagno attuale è maggiore)\n",
      "Mese 8: 120€ (media prec: 74.29€ - il guadagno attuale è maggiore)\n",
      "Mese 9: 80€ (media prec: 80.00€ - il guadagno attuale è maggiore)\n",
      "Mese 10: 20€ (media prec: 80.00€ - il guadagno attuale è minore)\n",
      "Mese 11: 50€ (media prec: 74.00€ - il guadagno attuale è minore)\n",
      "Mese 12: 50€ (media prec: 71.82€ - il guadagno attuale è minore)\n"
     ]
    }
   ],
   "source": [
    "#Lista guadagni ultimi 12 mesi\n",
    "guadagni = [100, 90, 70, 40, 50, 80, 90, 120, 80, 20, 50, 50]\n",
    "somma = 0                                               #Inizializzo variabile somma a 0\n",
    " \n",
    "for numero_mese in range(len(guadagni)):                                #Itero attraverso ogni mese\n",
    "    if numero_mese == 0:                                                #Per primo mese non ci sono guadagni precedenti\n",
    "        print(f\"Mese 1: {guadagni[0]}€\")                                #Stampo guadagno del primo mese \n",
    "    else:                                                               #Dal secondo mese in poi\n",
    "        somma += guadagni[numero_mese-1]                                #Aggiungo guadagno mese precedente alla somma\n",
    "        media = somma / numero_mese                                     #Calcolo media guadagni precedenti\n",
    "        #media = round(media, 2) -> per arrotondare la media ottenuta, a due cifre decimali indicate dal 2\n",
    "        guadagno_attuale = guadagni[numero_mese]                        #Ottengo guadagno attuale\n",
    "        #Stampo il guadagno attuale e la media precedente, con parametro end\n",
    "        print(f\"Mese {numero_mese+1}: {guadagno_attuale}€ (media prec: {media:.2f}€\", end=\"\")     \n",
    "        if guadagno_attuale < media:\n",
    "            print(\" - il guadagno attuale è minore)\")                   #Stampo se guadagno attuale è < media precedente\n",
    "        else:\n",
    "            print(\" - il guadagno attuale è maggiore)\")                 #Stampo se guadagno attuale è > media precedente"
   ]
  }
 ],
 "metadata": {
  "kernelspec": {
   "display_name": "Python 3 (ipykernel)",
   "language": "python",
   "name": "python3"
  },
  "language_info": {
   "codemirror_mode": {
    "name": "ipython",
    "version": 3
   },
   "file_extension": ".py",
   "mimetype": "text/x-python",
   "name": "python",
   "nbconvert_exporter": "python",
   "pygments_lexer": "ipython3",
   "version": "3.12.7"
  }
 },
 "nbformat": 4,
 "nbformat_minor": 5
}
