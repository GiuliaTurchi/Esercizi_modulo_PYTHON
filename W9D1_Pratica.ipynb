{
 "cells": [
  {
   "cell_type": "markdown",
   "id": "5b71eedf-910f-4ca7-8ede-21fc738b4518",
   "metadata": {},
   "source": [
    "### W9D1 - Pratica"
   ]
  },
  {
   "cell_type": "markdown",
   "id": "28e27d3c-e70d-4d34-992c-60c0b0d56eb1",
   "metadata": {},
   "source": [
    "#### Esercizio 1: \n",
    "Scriviamo un algoritmo (in forma testuale), con i passi necessari, per ogni task selezionata."
   ]
  },
  {
   "cell_type": "markdown",
   "id": "d76938aa-0b35-4d9a-9f3b-f4f1551278c7",
   "metadata": {},
   "source": [
    "Task: Fare la spesa\n",
    "1) Creo la lista della spesa;\n",
    "2) Prendo la macchina e vado al supermercato;\n",
    "3) Parcheggio la macchina e prendo il carello o il cestino, se necessario;\n",
    "4) Entro nel supermercato;\n",
    "5) Scelgo il reparto;\n",
    "6) Seleziono il prodotto da acquistare, in base alla lista del punto 1;\n",
    "7) Controllo data di scadenza, qualità, prezzo e/o eventuale offerta;\n",
    "8) Metto prodotto selezionato nel carrello, se trovato;\n",
    "9) Ripeto passaggio 5-6-7-8, fino al completamento della lista al punto 1;\n",
    "10) Faccio un check se sono stati presi tutti i prodotti della lista al punto 1;\n",
    "11) Vado in cassa;\n",
    "12) Metto tutti i prodotti sul nastro trasportatore;\n",
    "13) Ogni prodotto viene scansionato dal cassiere;\n",
    "14) Pago la spesa, in contanti o con bancomat;\n",
    "15) Se pago in contanti, attendo eventuale resto;\n",
    "16) Chiedo delle buste al cassiere, per metterci dentro i prodotti acquistati;\n",
    "17) Procedo con imbustare la spesa;\n",
    "18) Posiziono i prodotti più resistenti sotto e quelli più fragili sopra;\n",
    "19) Esco dal supermercato;\n",
    "20) Metto la spesa in macchina;\n",
    "21) Metto a posto il carrello o cestino, se utilizzato;\n",
    "22) Entro in macchina e torno a casa.\n",
    "\n",
    "Questo è un esempio di algoritmo per fare la spesa -> abbiamo elencato i vari componenti dell'attività scelta, punto per punto, in maniera ordinata. Questo \"svisceramento\" dell'algoritmo, viene fatto per aiutare il nostro calcolatore (PC), altrimenti si perde -> nel momento in cui c'è la minima cosa che non va, secondo il programma, il nostro calcolatore si blocca e aspetta che gli diciamo cosa fare o ci può dare qualche risultato errato. Il calcolatore considera il comportamento che ha una variabile -> le variabili ci servono per vedere i risultati, fino a quel momento -> sia i risultati parziali (perché sto continuando a fare delle elaborazioni), sia i risultati finali."
   ]
  },
  {
   "cell_type": "markdown",
   "id": "315e0c86-aa0c-4faa-8ae8-4e6bbbc738d6",
   "metadata": {},
   "source": [
    "Task: Acquistare uno snack da un distributore automatico\n",
    "1) Prendo il portafoglio;\n",
    "2) Controllo il credito disponibile;\n",
    "3) Se ho disponibilità, vado davanti al distributore, altrimenti non vado o pago con la carta;\n",
    "4) Controllo i prodotti esposti;\n",
    "5) Se trovo il prodotto che voglio, procedo con la selezione, altrimenti me ne vado;\n",
    "6) Vedo il codice che corrisponde al prodotto scelto;\n",
    "7) Seleziono il prodotto, scrivendo il codice sulla tastiera del distributore;\n",
    "8) Pago con carta o contanti;\n",
    "9) Se pago in contanti e non ho messo importo preciso, attendo il resto dal distributore;\n",
    "10) Attendo che il distributore estragga il prodotto selezionato;\n",
    "11) Se il prodotto viene consegnato, lo prendo e me ne vado;\n",
    "12) Se non viene consegnato, se disponibile premo il tasto annulla transazione, altrimenti chiamo assistenza;\n",
    "13) Se premo il tasto annulla transazione, attendo il rimborso;\n",
    "14) Se il denaro viene restituito, riprovo con i passaggi 7-8-9-10-11, altrimenti me ne vado;\n",
    "15) Se il denaro non viene restituito, chiamo l'assistenza.\n",
    "\n",
    "Analizzando questo algoritmo, in più passaggi abbiamo elencato una serie di condizioni -> in questa situazione, le condizioni mi portano per forza, a dover fare un'azione o un'altra. Ci sono alcuni casi in cui una condizione può essere -> se ci sono queste caratteristiche, fai questa azione, sennò rimani come stavi."
   ]
  },
  {
   "cell_type": "markdown",
   "id": "c1fff878-0749-4d45-aa11-7efc7d2a13d3",
   "metadata": {},
   "source": [
    "#### Esercizio 2: \n",
    "Eseguire le varie richieste, con relative stampe a video."
   ]
  },
  {
   "cell_type": "code",
   "execution_count": 1,
   "id": "a1fa71b1-9b83-4ec9-8192-48855cc1a416",
   "metadata": {},
   "outputs": [
    {
     "name": "stdout",
     "output_type": "stream",
     "text": [
      "Gli studenti inizialmente erano 25\n",
      "Successivamente sono diventati 28\n",
      "28 studenti frequentano la scuola 'Epicode'\n"
     ]
    }
   ],
   "source": [
    "#Abbiamo 25 studenti\n",
    "numero_studenti = 25                                      #Memorizzo questo dato in una variabile.\n",
    "print(\"Gli studenti inizialmente erano\" ,numero_studenti) #Stampo a video\n",
    "\n",
    "#Arrivano altri 3 studenti\n",
    "nuovi_studenti = 3                                        #Memorizzo questo dato in un'altra variabile.\n",
    "totale_studenti = numero_studenti + nuovi_studenti        #Variabile che conta la somma delle prime due.\n",
    "print(\"Successivamente sono diventati\" ,totale_studenti)  #Stampo a video \n",
    "\n",
    "nome_scuola = \"Epicode\"                                   #Creo variabile che contiene la stringa \"Epicode\".\n",
    "print(f\"{totale_studenti} studenti frequentano la scuola '{nome_scuola}'\") #Stampo a video, con f-string (formattazione)"
   ]
  },
  {
   "cell_type": "markdown",
   "id": "8ef31354-8eb7-4e46-af3d-ab151ca18d2b",
   "metadata": {},
   "source": [
    "#### Esercizio 3: \n",
    "Abbiamo la variabile: x = 10. Eseguire le operazioni richieste, con due metodi di operatori diversi."
   ]
  },
  {
   "cell_type": "code",
   "execution_count": 2,
   "id": "14bfd0ac-17f8-4e18-baf1-31892af9a201",
   "metadata": {},
   "outputs": [
    {
     "name": "stdout",
     "output_type": "stream",
     "text": [
      "x =  10\n",
      "Incremento x di 2 e diventa x = 12\n",
      "Ora moltiplico x per 3 e diventa x = 36\n"
     ]
    }
   ],
   "source": [
    "x = 10                                           #Incrementare di 2 e moltiplicare per 3\n",
    "print(\"x = \",x)                                  #Stampo a video [x = 10]\n",
    "\n",
    "x = x + 2                                        #Metodo 1: senza operatori di assegnazione, incremento x di 2\n",
    "print(\"Incremento x di 2 e diventa x =\",x)       #Stampo a video [x = 12]\n",
    "\n",
    "x *= 3                                           #Metodo 2: con operatore di assegnazione, moltiplico x per 3\n",
    "print(\"Ora moltiplico x per 3 e diventa x =\",x)  #Stampo a video [x = 36]"
   ]
  },
  {
   "cell_type": "markdown",
   "id": "9c045242-b35f-4fec-aab8-3e6c5850c5ce",
   "metadata": {},
   "source": [
    "#### Esercizio 4: \n",
    "Verificare, per ognuna delle seguenti stringhe, se il numero di caratteri è compreso tra 5 e 8."
   ]
  },
  {
   "cell_type": "code",
   "execution_count": 3,
   "id": "5a8f57c7-638a-413d-8be1-6cfb7cde8b70",
   "metadata": {},
   "outputs": [
    {
     "name": "stdout",
     "output_type": "stream",
     "text": [
      "La lunghezza della parola 'Windows' è  7 caratteri\n",
      "La lunghezza della parola 'Excel' è  5 caratteri\n",
      "La lunghezza della parola 'Powerpoint' è  10 caratteri\n",
      "La lunghezza della parola 'Word' è  4 caratteri\n",
      "La lunghezza della parola 'Windows' è compresa tra 5 e 8 cartteri? True\n",
      "La lunghezza della parola 'Excel' è compresa tra 5 e 8 cartteri? True\n",
      "La lunghezza della parola 'Powerpoint' è compresa tra 5 e 8 cartteri? False\n",
      "La lunghezza della parola 'Word' è compresa tra 5 e 8 cartteri? False\n"
     ]
    }
   ],
   "source": [
    "#Definisco le stringhe da utilizzare\n",
    "str1 = \"Windows\"\n",
    "str2 = \"Excel\"\n",
    "str3 = \"Powerpoint\"\n",
    "str4 = \"Word\"\n",
    "\n",
    "#Stampo la lunghezza di ciascuna stringa\n",
    "print(\"La lunghezza della parola 'Windows' è \", len(str1), \"caratteri\")     #Stampo a video [7]\n",
    "print(\"La lunghezza della parola 'Excel' è \", len(str2), \"caratteri\")       #Stampo a video [5]\n",
    "print(\"La lunghezza della parola 'Powerpoint' è \", len(str3), \"caratteri\")  #Stampo a video [10]\n",
    "print(\"La lunghezza della parola 'Word' è \", len(str4), \"caratteri\")        #Stampo a video [4]\n",
    "\n",
    "#Verifico se la lunghezza delle stringhe è compresa tra 5 e 8 caratteri\n",
    "str1_tra = 5 <= len(str1) <=8   #Verifico se lunghezza 'str1' è compresa tra 5 e 8 caratteri\n",
    "str2_tra = 5 <= len(str2) <=8   #Verifico se lunghezza 'str2' è compresa tra 5 e 8 caratteri\n",
    "str3_tra = 5 <= len(str3) <=8   #Verifico se lunghezza 'str3' è compresa tra 5 e 8 caratteri\n",
    "str4_tra = 5 <= len(str4) <=8   #Verifico se lunghezza 'str4' è compresa tra 5 e 8 caratteri\n",
    "\n",
    "#Stampo il risultato della verifica, per ciascuna stringa\n",
    "print(\"La lunghezza della parola 'Windows' è compresa tra 5 e 8 cartteri?\" ,str1_tra)    #Stampo a video [True]\n",
    "print(\"La lunghezza della parola 'Excel' è compresa tra 5 e 8 cartteri?\" ,str2_tra)      #Stampo a video [True]\n",
    "print(\"La lunghezza della parola 'Powerpoint' è compresa tra 5 e 8 cartteri?\" ,str3_tra) #Stampo a video [False]\n",
    "print(\"La lunghezza della parola 'Word' è compresa tra 5 e 8 cartteri?\" ,str4_tra)       #Stampo a video [False]"
   ]
  },
  {
   "cell_type": "markdown",
   "id": "d945b0be-2a58-43fb-a24f-23ea48a2ecd0",
   "metadata": {},
   "source": [
    "* Soluzione alternativa esercizio 3 -> con ciclo for e costrutto if-else."
   ]
  },
  {
   "cell_type": "code",
   "execution_count": 4,
   "id": "e71d9d96-4d88-470f-8707-9fa4963eb446",
   "metadata": {},
   "outputs": [
    {
     "name": "stdout",
     "output_type": "stream",
     "text": [
      "La parola 'Windows' = è compresa tra 5 e 8 caratteri\n",
      "La parola 'Excel' = è compresa tra 5 e 8 caratteri\n",
      "La parola 'Powerpoint' = non è compresa tra 5 e 8 caratteri\n",
      "La parola 'Word' = non è compresa tra 5 e 8 caratteri\n"
     ]
    }
   ],
   "source": [
    "#Definisco le stringhe da utilizzare\n",
    "str1 = \"Windows\"\n",
    "str2 = \"Excel\"\n",
    "str3 = \"Powerpoint\"\n",
    "str4 = \"Word\"\n",
    "\n",
    "#Creo una lista di tuple, contenenti nome e stringa corrispondente\n",
    "stringhe = [(\"Windows\", str1), (\"Excel\", str2), (\"Powerpoint\", str3), (\"Word\", str4)]\n",
    "risultati = []                         #Inizializzo la lista dei risultati\n",
    "\n",
    "for nome, stringa in stringhe:         #Itero attraverso ogni tupla, nella lista 'stringhe'\n",
    "    if 5 <= len(stringa) <= 8:         #Controllo se lunghezza della stringa è compresa tra 5 e 8 caratteri\n",
    "        #Stampo un messaggio, se la condizione è soddisfatta\n",
    "        print(f\"La parola '{nome}' = è compresa tra 5 e 8 caratteri\")\n",
    "    else:                              #Questo blocco viene eseguito se la condizione nel blocco 'if' non è soddisfatta\n",
    "        #Stampo un messaggio, se la condizione non è soddisfatta\n",
    "        print(f\"La parola '{nome}' = non è compresa tra 5 e 8 caratteri\")"
   ]
  },
  {
   "cell_type": "markdown",
   "id": "5ce6106d-9343-4b7a-a298-1980d6bee1b3",
   "metadata": {},
   "source": [
    "#### Esercizio 5: \n",
    "Calcolare e stampare a video quanti secondi ci sono in un anno non bisestile."
   ]
  },
  {
   "cell_type": "code",
   "execution_count": 5,
   "id": "01e13cbc-ebed-41b7-b639-817a1a346acf",
   "metadata": {},
   "outputs": [
    {
     "name": "stdout",
     "output_type": "stream",
     "text": [
      "In un anno non bisestile, ci sono 31536000 secondi\n"
     ]
    }
   ],
   "source": [
    "giorni_anno = 365      #Definisco numero di giorni in un anno non bisestile\n",
    "ore_giorno = 24        #Definisco numero di ore in un giorno\n",
    "minuti_ora = 60        #Definisco numero di minuti in un'ora\n",
    "secondi_minuto = 60    #Definisco numero di secondi in un minuto\n",
    "\n",
    "#Calcolo il numero totale di secondi, in un anno non bisestile\n",
    "secondi_anno = giorni_anno * ore_giorno * minuti_ora * secondi_minuto\n",
    "\n",
    "#Stampo a video numero totale di secondi in un anno non bisestile, utilizzando f-string per la formattazione\n",
    "print(f\"In un anno non bisestile, ci sono {secondi_anno} secondi\") "
   ]
  },
  {
   "cell_type": "markdown",
   "id": "33bb0804-0af4-4a96-8553-bbba0961a608",
   "metadata": {},
   "source": [
    "#### Esercizio 6: \n",
    "Abbiamo la seguente stringa: my_string = \"I am studying Python\". \n",
    "* Trasformarla in modo che tutti i caratteri siano maiuscoli (uppercase).\n",
    "* Trasformarla in modo che tutti i caratteri siano minuscoli (lowercase).\n",
    "* Sostituire la sottostringa \"Python\" con la stringa \"a lot\".\n",
    "* Usare il metodo .strip(); cambia qualcosa? Perché?"
   ]
  },
  {
   "cell_type": "code",
   "execution_count": 6,
   "id": "dbcee207-8cad-4bee-a5f5-d87df3e4a48e",
   "metadata": {},
   "outputs": [
    {
     "name": "stdout",
     "output_type": "stream",
     "text": [
      "I AM STUDYING PYTHON\n",
      "i am studying python\n",
      "I am studying a lot\n",
      "I am studying Python\n"
     ]
    }
   ],
   "source": [
    "my_string = \"I am studying Python\"          #Trasformo la seguente stringa, in base ai vari metodi richiesti\n",
    "\n",
    "'''Le stringhe hanno una serie di metodi -> per usarli, dopo aver scritto nome stringa, si usa operatore punto '.'\n",
    "Operatore punto -> voglio prendere una funzione, interna ad una variabile, che opera su quella variabile specifica\n",
    "Tutto ciò che c'è dentro la stringa, è considerato un carattere (anche lo spazio)'''\n",
    "\n",
    "print(my_string.upper())                    #Trasformo la stringa, in modo che tutti i caratteri siano maiuscoli \n",
    "print(my_string.lower())                    #Trasformo la stringa, in modo che tutti i caratteri siano minuscoli\n",
    "print(my_string.replace(\"Python\",\"a lot\"))  #Sostituisco la sottostringa \"Python\", con la stringa \"a lot\"\n",
    "print(my_string.strip())                    #Restituisco la stringa, senza spazi vuoti, all'inizio e alla fine\n",
    "\n",
    "#Non cambia niente usando il metodo .strip(), perchè non ci sono spazi vuoti all'inizio o alla fine"
   ]
  }
 ],
 "metadata": {
  "kernelspec": {
   "display_name": "Python 3 (ipykernel)",
   "language": "python",
   "name": "python3"
  },
  "language_info": {
   "codemirror_mode": {
    "name": "ipython",
    "version": 3
   },
   "file_extension": ".py",
   "mimetype": "text/x-python",
   "name": "python",
   "nbconvert_exporter": "python",
   "pygments_lexer": "ipython3",
   "version": "3.12.7"
  }
 },
 "nbformat": 4,
 "nbformat_minor": 5
}
