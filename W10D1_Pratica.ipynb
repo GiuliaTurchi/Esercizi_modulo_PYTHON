{
 "cells": [
  {
   "cell_type": "markdown",
   "id": "0531fe2f-40ee-43a2-8efc-b407d0f1c6e0",
   "metadata": {},
   "source": [
    "### W10D1 - Pratica"
   ]
  },
  {
   "cell_type": "markdown",
   "id": "4cfbe531-643f-49eb-b861-1419e74aeea9",
   "metadata": {},
   "source": [
    "#### Esercizio 1: \n",
    "Data lista di liste, che tipo di struttura dati o matematica potrebbe rappresentare? Notare che tutte le liste \"interne\" sono della stessa dimensione.                                                                        \n",
    "Come facciamo per accedere ad un elemento in particolare?"
   ]
  },
  {
   "cell_type": "code",
   "execution_count": 1,
   "id": "3f5e1f28-9288-4ce2-a081-62881e3d0b3f",
   "metadata": {},
   "outputs": [
    {
     "name": "stdout",
     "output_type": "stream",
     "text": [
      "La matrice è la seguente:\n",
      "[[ 0  1  2  3  4]\n",
      " [ 5  6  7  8  9]\n",
      " [10 11 12 13 14]]\n",
      "\n",
      "L'elemento nella seconda riga e terza colonna è: 7\n",
      "L'elemento nella terza riga e quarta colonna è: 13\n",
      "L'elemento nella prima riga e seconda colonna è: 1\n",
      "L'elemento nella seconda riga e quinta colonna è: 9\n"
     ]
    }
   ],
   "source": [
    "'''Potrebbe rappresentare una matrice o array bidimensionale -> devo trasformare le liste in array. \n",
    "In termini matematici, una matrice è una disposizione rettangolare di numeri in righe e colonne.'''\n",
    "\n",
    "mat = [[0, 1, 2, 3, 4], \n",
    "       [5, 6, 7, 8, 9], \n",
    "       [10, 11, 12, 13, 14]] \n",
    "\n",
    "import numpy as np                                                         #Importo libreria NumPy, con alias 'np'\n",
    "\n",
    "#Definisco una matrice 3x5\n",
    "array_matrice = np.array(mat)                                              #Converto in un array numpy -> casting\n",
    "print(f\"La matrice è la seguente:\\n{array_matrice}\\n\")                     #Stampo matrice, andando a capo per ogni riga\n",
    "\n",
    "#Accesso all'elemento nella seconda riga e terza colonna\n",
    "elemento = array_matrice[1][2]                                             #Questo accede all'elemento 7\n",
    "print(f\"L'elemento nella seconda riga e terza colonna è: {elemento}\")\n",
    "\n",
    "#Accesso all'elemento nella terza riga e quarta colonna\n",
    "elemento = array_matrice[2][3]                                             #Questo accede all'elemento 13\n",
    "print(f\"L'elemento nella terza riga e quarta colonna è: {elemento}\")\n",
    "\n",
    "#Accesso all'elemento nella prima riga e seconda colonna\n",
    "elemento = array_matrice[0][1]                                             #Questo accede all'elemento 1\n",
    "print(f\"L'elemento nella prima riga e seconda colonna è: {elemento}\")\n",
    "\n",
    "#Accesso all'elemento nella seconda riga e quinta colonna\n",
    "elemento = array_matrice[1][4]                                             #Questo accede all'elemento 9\n",
    "print(f\"L'elemento nella seconda riga e quinta colonna è: {elemento}\")"
   ]
  },
  {
   "cell_type": "code",
   "execution_count": 2,
   "id": "33f127b4-56fa-4122-ae5c-a5e3672fa7ca",
   "metadata": {},
   "outputs": [
    {
     "name": "stdout",
     "output_type": "stream",
     "text": [
      "La somma delle tre liste è: [15 18 21 24 27]\n",
      "\n"
     ]
    },
    {
     "data": {
      "text/html": [
       "<div>\n",
       "<style scoped>\n",
       "    .dataframe tbody tr th:only-of-type {\n",
       "        vertical-align: middle;\n",
       "    }\n",
       "\n",
       "    .dataframe tbody tr th {\n",
       "        vertical-align: top;\n",
       "    }\n",
       "\n",
       "    .dataframe thead th {\n",
       "        text-align: right;\n",
       "    }\n",
       "</style>\n",
       "<table border=\"1\" class=\"dataframe\">\n",
       "  <thead>\n",
       "    <tr style=\"text-align: right;\">\n",
       "      <th></th>\n",
       "      <th>A</th>\n",
       "      <th>B</th>\n",
       "      <th>C</th>\n",
       "    </tr>\n",
       "  </thead>\n",
       "  <tbody>\n",
       "    <tr>\n",
       "      <th>1</th>\n",
       "      <td>0</td>\n",
       "      <td>5</td>\n",
       "      <td>10</td>\n",
       "    </tr>\n",
       "    <tr>\n",
       "      <th>2</th>\n",
       "      <td>1</td>\n",
       "      <td>6</td>\n",
       "      <td>11</td>\n",
       "    </tr>\n",
       "    <tr>\n",
       "      <th>3</th>\n",
       "      <td>2</td>\n",
       "      <td>7</td>\n",
       "      <td>12</td>\n",
       "    </tr>\n",
       "    <tr>\n",
       "      <th>4</th>\n",
       "      <td>3</td>\n",
       "      <td>8</td>\n",
       "      <td>13</td>\n",
       "    </tr>\n",
       "    <tr>\n",
       "      <th>5</th>\n",
       "      <td>4</td>\n",
       "      <td>9</td>\n",
       "      <td>14</td>\n",
       "    </tr>\n",
       "  </tbody>\n",
       "</table>\n",
       "</div>"
      ],
      "text/plain": [
       "   A  B   C\n",
       "1  0  5  10\n",
       "2  1  6  11\n",
       "3  2  7  12\n",
       "4  3  8  13\n",
       "5  4  9  14"
      ]
     },
     "metadata": {},
     "output_type": "display_data"
    },
    {
     "name": "stdout",
     "output_type": "stream",
     "text": [
      "\n",
      "Le ultime tre righe della colonna B:\n",
      "3    7\n",
      "4    8\n",
      "5    9\n",
      "Name: B, dtype: int64 \n",
      "\n",
      "Il valore della prima colonna alla riga '3':\n",
      "2\n"
     ]
    }
   ],
   "source": [
    "'''Converto le singole liste in array, per poi sommarle tra loro. Creo poi un DataFrame con Pandas, con etichette di riga, \n",
    "per selezionare e stampare alcune righe, per usare l'indicizzazione basata su etichette (.loc[])\n",
    "e l'indicizzazione basata su posizioni (.iloc[]).'''\n",
    "\n",
    "mat = [[0, 1, 2, 3, 4], \n",
    "       [5, 6, 7, 8, 9], \n",
    "       [10, 11, 12, 13, 14]]                                              \n",
    "\n",
    "array1 = np.array(mat[0])                                        #Converto prima riga matrice in un array -> casting\n",
    "array2 = np.array(mat[1])                                        #Converto seconda riga matrice in un array -> casting\n",
    "array3 = np.array(mat[2])                                        #Converto terza riga matrice in un array -> casting\n",
    "\n",
    "somma_array = array1 + array2 + array3\n",
    "print(f\"La somma delle tre liste è: {somma_array}\\n\")            #Sommo tre array e stampo risultato\n",
    "\n",
    "import pandas as pd                                              #Importo libreria Pandas, con alias 'pd'\n",
    "\n",
    "#Creo DataFrame, utilizzando Pandas, con colonne 'A', 'B' e 'C' e etichette di riga '1', '2', '3', '4', '5'\n",
    "mat_dataframe = pd.DataFrame({\"A\": [0, 1, 2, 3, 4], \"B\": [5, 6, 7, 8, 9], \"C\": [10, 11, 12, 13, 14]},\n",
    "                             index=list(\"12345\"))\n",
    "display(mat_dataframe)                                           #Visualizzo DataFrame\n",
    "\n",
    "print(\"\\nLe ultime tre righe della colonna B:\")\n",
    "print(mat_dataframe.loc['3':'5', \"B\"], \"\\n\")                     #Utilizzo indicizzazione basata su etichette (label-based indexing)\n",
    "print(\"Il valore della prima colonna alla riga '3':\")\n",
    "print(mat_dataframe.iloc[-3, 0])                                 #Utilizzo indicizzazione basata su posizioni (position-based indexing)"
   ]
  },
  {
   "cell_type": "markdown",
   "id": "a8796bbe-481f-4ff2-a73b-2ed64f69821b",
   "metadata": {},
   "source": [
    "#### Esercizio 2:\n",
    "Importiamo il modulo math e proviamo a usare le funzioni .sin() .cos() .factorial() e la variabile .pi."
   ]
  },
  {
   "cell_type": "code",
   "execution_count": 3,
   "id": "6c8ebd2b-e3f7-4932-b1e7-7b37ed3ee6bd",
   "metadata": {},
   "outputs": [
    {
     "name": "stdin",
     "output_type": "stream",
     "text": [
      "Inserisci un numero:  8\n"
     ]
    },
    {
     "name": "stdout",
     "output_type": "stream",
     "text": [
      "Il seno di 8 è 0.14\n",
      "Il coseno di 8 è 0.99\n",
      "Il fattoriale di 8 è: 40320\n",
      "Il valore di pi greco è: 3.14\n"
     ]
    }
   ],
   "source": [
    "import math                                            #Importo libreria math\n",
    "\n",
    "#Chiedo numero in input all'utente\n",
    "numero = int(input(\"Inserisci un numero: \"))           #Converto input utente in un intero\n",
    "numero_radianti = math.radians(numero)                 #Converto numero in radianti\n",
    "\n",
    "#Utilizzo funzione .sin(), per calcolare seno numero, indicato in radianti\n",
    "seno = round(math.sin(numero_radianti), 2)             #Arrotondo risultato a due decimali\n",
    "print(f\"Il seno di {numero} è {seno}\")                 #Stampo seno numero in radianti\n",
    "\n",
    "#Utilizzo unzione cos(), per calcolare coseno numero, indicato in radianti\n",
    "coseno = round(math.cos(numero_radianti), 2)           #Arrotondo risultato a due decimali\n",
    "print(f\"Il coseno di {numero} è {coseno}\")             #Stampo coseno numero in radianti\n",
    "\n",
    "#Utilizzo funzione factorial(), per calcolare fattoriale numero definito \n",
    "fattoriale = math.factorial(numero)                    #Calcolo prodotto di tutti numeri interi positivi, fino a n\n",
    "print(f\"Il fattoriale di {numero} è: {fattoriale}\")    #Stampo attoriale numero   \n",
    "\n",
    "#Utilizzo variabile pi, per stampare valore pi greco (circa 3.14159) -> non vuole parentesi \n",
    "pi_greco = round(math.pi, 2)                           #Arrotondo valore pi greco a due decimali \n",
    "print(f\"Il valore di pi greco è: {pi_greco}\")          #Stampo valore pi greco"
   ]
  },
  {
   "cell_type": "markdown",
   "id": "60cc9c09-a0e4-45f1-8ac8-0cf73ead6dba",
   "metadata": {},
   "source": [
    "#### Esercizio 3:\n",
    "Proviamo a eseguire math.degrees(math.pi). Qual è e cosa significa il risultato?                                                         \n",
    "Per saperne di più su questa funzione possiamo usare help(math.degrees)."
   ]
  },
  {
   "cell_type": "code",
   "execution_count": 4,
   "id": "fc8c84a5-38e2-41d5-a08c-6a5d17b6fcb7",
   "metadata": {},
   "outputs": [
    {
     "name": "stdout",
     "output_type": "stream",
     "text": [
      "Il valore di pi greco in gradi è: 180.0\n",
      "\n",
      "Help on built-in function degrees in module math:\n",
      "\n",
      "degrees(x, /)\n",
      "    Convert angle x from radians to degrees.\n",
      "\n"
     ]
    }
   ],
   "source": [
    "gradi = math.degrees(math.pi)                           #Converto pi greco, da radianti a gradi\n",
    "print(f\"Il valore di pi greco in gradi è: {gradi}\\n\")   #Stampo risultato\n",
    "\n",
    "#Utilizzo la funzione help(), per saperne di più su math.degrees()\n",
    "help(math.degrees)                  #degrees(x, /) Convert angle x from radians to degrees [Converte l'angolo x da radianti a gradi.]"
   ]
  },
  {
   "cell_type": "markdown",
   "id": "1e2686e3-96c5-4e16-8b64-01dbf19ebd11",
   "metadata": {},
   "source": [
    "#### Esercizio 4:\n",
    "L'azienda Object SpA ha creato una lista di quanti oggetti ha venduto ogni mese nell'ultimo anno.\n",
    "Trasformiamola in un array e rispondiamo alle domande del CEO della Object SpA:  \n",
    "\n",
    "Qual è stata la vendita massima mensile? E quella minima?                                                                             \n",
    "Quali sono le vendite mensili maggiori di 4999 oggetti? E quante ne sono?                                                               \n",
    "Quali sono le vendite minori di 3000 oggetti?                                                                                           \n",
    "In media quanti oggetti sono stati venduti al mese?"
   ]
  },
  {
   "cell_type": "code",
   "execution_count": 5,
   "id": "41dc240d-d911-4930-a04f-af7f823336a3",
   "metadata": {},
   "outputs": [
    {
     "name": "stdout",
     "output_type": "stream",
     "text": [
      "La vendita massima mensile è: 8150\n",
      "La vendita minima mensile è: 1280\n",
      "Le vendite mensili maggiori di 4999 oggetti sono: [5500 7200 6410 8150 7100 5350]\n",
      "Le vendite superiori a 4999 sono 4999 sono 6\n",
      "Le vendite mensili minori di 3000 oggetti sono: [2000 1280 1900 2500]\n",
      "In media, sono stati venduti 4634.17 oggetti al mese.\n"
     ]
    }
   ],
   "source": [
    "#Lista vendite mensili\n",
    "lst = [2000, 5500, 7200, 4320, 1280, 1900, 2500, 3900, 6410, 8150, 7100, 5350]\n",
    "vendite = np.array(lst)                               #Trasformo lista in un array -> casting\n",
    "\n",
    "vendita_max = vendite.max()                           #Vendita massima mensile\n",
    "print(f\"La vendita massima mensile è: {vendita_max}\") #Stampo a video\n",
    "\n",
    "vendita_min = vendite.min()                           #Vendita minima mensile\n",
    "print(f\"La vendita minima mensile è: {vendita_min}\")  #Stampo a video\n",
    "\n",
    "filtro = vendite > 4999                               #Masking ->  filtrare parti di dati \n",
    "vendite_over_4999 = vendite[filtro]                   #Vendite mensili maggiori di 4999 oggetti\n",
    "print(f\"Le vendite mensili maggiori di 4999 oggetti sono: {vendite_over_4999}\")\n",
    "print(f\"Le vendite superiori a 4999 sono 4999 sono {len(vendite_over_4999)}\")\n",
    "#Per calcolare il numero di vendite superiori a 4999 oggetti, posso utilizzare anche np.sum(vendite_over_4999)\n",
    "\n",
    "filtro = vendite < 3000                               #Masking ->  filtrare parti di dati\n",
    "vendite_under_3000 = vendite[filtro]                  #Vendite mensili minori di 3000 oggetti\n",
    "print(f\"Le vendite mensili minori di 3000 oggetti sono: {vendite_under_3000}\")\n",
    "\n",
    "media_vendite = round(np.mean(vendite),2)             #Media vendite mensili, arrotondata a 2 decimali\n",
    "print(f\"In media, sono stati venduti {media_vendite} oggetti al mese.\")  "
   ]
  },
  {
   "cell_type": "markdown",
   "id": "e4939ac0-4225-4d02-a2dd-0cd90e65a01a",
   "metadata": {},
   "source": [
    "#### Esercizio 5:\n",
    "Consideriamo il dizionario e la Series, possiamo accedere alle stesse informazioni nello stesso modo?                                    \n",
    "Dunque qual è la differenza tra i due tipi di dato?                                                                                      \n",
    "Cosa potremmo fare con la Series, che non possiamo fare con il dizionario?"
   ]
  },
  {
   "cell_type": "code",
   "execution_count": 6,
   "id": "1acd6f3b-f384-49c2-903c-0bb6ac449947",
   "metadata": {},
   "outputs": [
    {
     "name": "stdout",
     "output_type": "stream",
     "text": [
      "Il fatturato del 1997 dal dizionario è: 12000\n",
      "Il fatturato del 1997 dalla Series è: 12000\n",
      "\n",
      "La media dei fatturati é: 18375.0\n",
      "\n",
      "Fatturati moltiplicati per 2:\n",
      "1997    24000\n",
      "1998    30000\n",
      "1999    40000\n",
      "2000    46000\n",
      "2001    50000\n",
      "2002    34000\n",
      "2003    28000\n",
      "2004    42000\n",
      "dtype: int64\n",
      "\n",
      "Fatturati maggiori di 20_000:\n",
      "2000    23000\n",
      "2001    25000\n",
      "2004    21000\n",
      "dtype: int64\n",
      "\n",
      "Somma delle due Series:\n",
      "1997    12001\n",
      "1998    15002\n",
      "1999    20003\n",
      "2000    23004\n",
      "2001    25005\n",
      "2002    17006\n",
      "2003    14007\n",
      "2004    21008\n",
      "dtype: int64\n"
     ]
    }
   ],
   "source": [
    "fatturati_dict = {1997: 12_000, 1998: 15_000, 1999: 20_000, 2000: 23_000, 2001: 25_000, 2002: 17_000, \n",
    "                  2003: 14_000, 2004: 21_000}                               #Dizionario fatturati annuali, con _ per separare migliaia\n",
    "fatturati_series = pd.Series([12_000, 15_000, 20_000, 23_000, 25_000, 17_000, 14_000, 21_000], \n",
    "                             index=range(1997, 2005))                       #Series con fatturati annuali e anni come indice\n",
    "\n",
    "#Accesso ai valori\n",
    "print(f\"Il fatturato del 1997 dal dizionario è: {fatturati_dict[1997]}\")    #Stampo valore 1997 dal 'dizionario'\n",
    "print(f\"Il fatturato del 1997 dalla Series è: {fatturati_series[1997]}\\n\")  #Stampo valore 1997 dalla 'Series'\n",
    "\n",
    "#Calcolo della media\n",
    "media = fatturati_series.mean()\n",
    "print(f\"La media dei fatturati é: {media}\\n\")                               #Stampo media fatturati\n",
    "\n",
    "#Operazioni aritmetiche\n",
    "print(f\"Fatturati moltiplicati per 2:\\n{fatturati_series * 2}\\n\")           #Stampo fatturati, moltiplicati per 2\n",
    "\n",
    "#Filtraggio dei dati\n",
    "filtrati = fatturati_series[fatturati_series > 20_000]\n",
    "print(f\"Fatturati maggiori di 20_000:\\n{filtrati}\\n\")                       #Stampo fatturati, maggiori di 20_000\n",
    "\n",
    "#Operazioni con altre Series\n",
    "altra_series = pd.Series([1, 2, 3, 4, 5, 6, 7, 8], index=range(1997, 2005)) #Creo altra Series, con anni come indice\n",
    "somma_series = fatturati_series + altra_series                              #Sommo due Series tra loro\n",
    "print(f\"Somma delle due Series:\\n{somma_series}\")                           #Stampo somma due Series"
   ]
  },
  {
   "cell_type": "markdown",
   "id": "cdc4c119-4158-4bc1-af7e-e14e13b126c9",
   "metadata": {},
   "source": [
    "Entrambi i tipi di dato, dizionario e Series, permettono di accedere ai valori tramite le chiavi (o indici), ma ci sono alcune differenze fondamentali tra i due e alcune operazioni che possiamo fare con una Series, che non possiamo fare con un dizionario.\n",
    "\n",
    "**Differenze principali**:\n",
    "1) **Tipo di dato**:\n",
    "* *Dizionario*: È una struttura dati nativa di Python, che mappa chiavi a valori (e non ha un ordine).\n",
    "* *Series*: È una struttura dati di Pandas, che rappresenta una colonna di dati, con un indice.\n",
    "\n",
    "2) **Operazioni e funzionalità**:\n",
    "* *Dizionario*: È limitato alle operazioni di base come l'accesso, l'aggiornamento, l'aggiunta e la rimozione di elementi.\n",
    "* *Series*: Offre molte più funzionalità, come operazioni aritmetiche vettoriali, metodi statistici, indicizzazione avanzata, e molto altro."
   ]
  },
  {
   "cell_type": "markdown",
   "id": "1e33ea7f-3319-49ca-899c-9f5a1fd9b1fb",
   "metadata": {},
   "source": [
    "#### Esercizio 6:\n",
    "L'azienda Object SpA ha un dataset con tutti gli stipendi dei dipendenti, memorizzato in un ndarray.                                   \n",
    "L'azienda ci chiede di raddoppiare tutti gli stipendi; facciamolo in due modi -> con ciclo for e con il masking."
   ]
  },
  {
   "cell_type": "code",
   "execution_count": 7,
   "id": "59159379-0ae8-45fb-ac22-09bb6853ed6d",
   "metadata": {},
   "outputs": [
    {
     "name": "stdout",
     "output_type": "stream",
     "text": [
      "Stipendi raddoppiati con ciclo for: [200, 400, 600, 800, 1000, 1200, 1400, 1600, 1800, 2000]\n"
     ]
    }
   ],
   "source": [
    "#Creo un array con gli stipendi\n",
    "stipendi = np.array([100, 200, 300, 400, 500, 600, 700, 800, 900, 1000])  \n",
    "\n",
    "#Con ciclo for\n",
    "nuovi_stipendi = []                                          #Inizializzo lista vuota, per nuovi stipendi\n",
    "                 \n",
    "for stipendio in stipendi:                                   #Itero attraverso ogni stipendio nell'array\n",
    "    nuovo_stipendio = stipendio * 2                          #Raddoppio stipendio corrente\n",
    "    nuovi_stipendi.append(nuovo_stipendio)                   #Aggiungo nuovo stipendio alla lista\n",
    "\n",
    "#Stampo nuovi stipendi raddoppiati, usando ciclo for\n",
    "print(\"Stipendi raddoppiati con ciclo for:\", nuovi_stipendi)  "
   ]
  },
  {
   "cell_type": "code",
   "execution_count": 8,
   "id": "278cf09d-7073-4270-9ee3-ffbdcb5a79b7",
   "metadata": {},
   "outputs": [
    {
     "name": "stdout",
     "output_type": "stream",
     "text": [
      "Complimenti per il vostro lavoro, i nuovi stipendi sono: [200, 400, 600, 800, 1000, 1200, 1400, 1600, 1800, 2000]\n"
     ]
    }
   ],
   "source": [
    "#Con ciclo for, con una list comprehension\n",
    "new_stipendi = [stipendio * 2 for stipendio in stipendi]    \n",
    "print(\"Complimenti per il vostro lavoro, i nuovi stipendi sono:\", new_stipendi)"
   ]
  },
  {
   "cell_type": "code",
   "execution_count": 9,
   "id": "47437855-f324-430e-83d1-37fcb3ede90f",
   "metadata": {},
   "outputs": [
    {
     "name": "stdout",
     "output_type": "stream",
     "text": [
      "Stipendi raddoppiati con masking: [ 200  400  600  800 1000 1200 1400 1600 1800 2000]\n"
     ]
    }
   ],
   "source": [
    "#Con masking di NumPy\n",
    "nuovi_stipendi_masking = stipendi * 2                        #Raddoppio tutti stipendi nell'array, usando NumPy\n",
    "\n",
    "#Stampo nuovi stipendi raddoppiati, usando masking \n",
    "print(\"Stipendi raddoppiati con masking:\", nuovi_stipendi_masking)  "
   ]
  }
 ],
 "metadata": {
  "kernelspec": {
   "display_name": "Python 3 (ipykernel)",
   "language": "python",
   "name": "python3"
  },
  "language_info": {
   "codemirror_mode": {
    "name": "ipython",
    "version": 3
   },
   "file_extension": ".py",
   "mimetype": "text/x-python",
   "name": "python",
   "nbconvert_exporter": "python",
   "pygments_lexer": "ipython3",
   "version": "3.12.7"
  }
 },
 "nbformat": 4,
 "nbformat_minor": 5
}
